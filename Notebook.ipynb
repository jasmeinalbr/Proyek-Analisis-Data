{
  "cells": [
    {
      "cell_type": "markdown",
      "metadata": {
        "id": "H9wADwK78DCz"
      },
      "source": [
        "# Proyek Analisis Data: Bike Sharing Dataset\n",
        "- **Nama:** Jasmein Al-baar Putri Rus'an\n",
        "- **Email:** jasmeinalbaar29@gmail.com\n",
        "- **ID Dicoding:** MC222D5X1142"
      ]
    },
    {
      "cell_type": "markdown",
      "metadata": {
        "id": "eE0raob58DC0"
      },
      "source": [
        "## Menentukan Pertanyaan Bisnis"
      ]
    },
    {
      "cell_type": "markdown",
      "metadata": {
        "id": "GmQeQ5YF8DC0"
      },
      "source": [
        "- Manakah faktor cuaca (suhu, kelembaban, kecepatan angin) paling berpengaruh terhadap jumlah penyewaan sepeda?\n",
        "- Bagaimana pola penggunaan sepeda pada hari kerja dibandingkan dengan akhir pekan atau hari libur dalam dua tahun terakhir?"
      ]
    },
    {
      "cell_type": "markdown",
      "metadata": {
        "id": "H-z4QGlO8DC1"
      },
      "source": [
        "## Import Semua Packages/Library yang Digunakan"
      ]
    },
    {
      "cell_type": "code",
      "execution_count": 36,
      "metadata": {
        "id": "FVYwaObI8DC1"
      },
      "outputs": [],
      "source": [
        "import numpy as np\n",
        "import pandas as pd\n",
        "import matplotlib.pyplot as plt\n",
        "import seaborn as sn"
      ]
    },
    {
      "cell_type": "markdown",
      "metadata": {
        "id": "h_Sh51Xy8DC1"
      },
      "source": [
        "## Data Wrangling"
      ]
    },
    {
      "cell_type": "markdown",
      "metadata": {
        "id": "sXU2GBYu8DC1"
      },
      "source": [
        "### Gathering Data"
      ]
    },
    {
      "cell_type": "code",
      "execution_count": 37,
      "metadata": {
        "colab": {
          "base_uri": "https://localhost:8080/",
          "height": 206
        },
        "id": "zjCBk1BI8DC1",
        "outputId": "a3230d2a-a317-4202-81af-d5f684c333b4"
      },
      "outputs": [
        {
          "data": {
            "text/html": [
              "<div>\n",
              "<style scoped>\n",
              "    .dataframe tbody tr th:only-of-type {\n",
              "        vertical-align: middle;\n",
              "    }\n",
              "\n",
              "    .dataframe tbody tr th {\n",
              "        vertical-align: top;\n",
              "    }\n",
              "\n",
              "    .dataframe thead th {\n",
              "        text-align: right;\n",
              "    }\n",
              "</style>\n",
              "<table border=\"1\" class=\"dataframe\">\n",
              "  <thead>\n",
              "    <tr style=\"text-align: right;\">\n",
              "      <th></th>\n",
              "      <th>instant</th>\n",
              "      <th>dteday</th>\n",
              "      <th>season</th>\n",
              "      <th>yr</th>\n",
              "      <th>mnth</th>\n",
              "      <th>holiday</th>\n",
              "      <th>weekday</th>\n",
              "      <th>workingday</th>\n",
              "      <th>weathersit</th>\n",
              "      <th>temp</th>\n",
              "      <th>atemp</th>\n",
              "      <th>hum</th>\n",
              "      <th>windspeed</th>\n",
              "      <th>casual</th>\n",
              "      <th>registered</th>\n",
              "      <th>cnt</th>\n",
              "    </tr>\n",
              "  </thead>\n",
              "  <tbody>\n",
              "    <tr>\n",
              "      <th>0</th>\n",
              "      <td>1</td>\n",
              "      <td>2011-01-01</td>\n",
              "      <td>1</td>\n",
              "      <td>0</td>\n",
              "      <td>1</td>\n",
              "      <td>0</td>\n",
              "      <td>6</td>\n",
              "      <td>0</td>\n",
              "      <td>2</td>\n",
              "      <td>0.344167</td>\n",
              "      <td>0.363625</td>\n",
              "      <td>0.805833</td>\n",
              "      <td>0.160446</td>\n",
              "      <td>331</td>\n",
              "      <td>654</td>\n",
              "      <td>985</td>\n",
              "    </tr>\n",
              "    <tr>\n",
              "      <th>1</th>\n",
              "      <td>2</td>\n",
              "      <td>2011-01-02</td>\n",
              "      <td>1</td>\n",
              "      <td>0</td>\n",
              "      <td>1</td>\n",
              "      <td>0</td>\n",
              "      <td>0</td>\n",
              "      <td>0</td>\n",
              "      <td>2</td>\n",
              "      <td>0.363478</td>\n",
              "      <td>0.353739</td>\n",
              "      <td>0.696087</td>\n",
              "      <td>0.248539</td>\n",
              "      <td>131</td>\n",
              "      <td>670</td>\n",
              "      <td>801</td>\n",
              "    </tr>\n",
              "    <tr>\n",
              "      <th>2</th>\n",
              "      <td>3</td>\n",
              "      <td>2011-01-03</td>\n",
              "      <td>1</td>\n",
              "      <td>0</td>\n",
              "      <td>1</td>\n",
              "      <td>0</td>\n",
              "      <td>1</td>\n",
              "      <td>1</td>\n",
              "      <td>1</td>\n",
              "      <td>0.196364</td>\n",
              "      <td>0.189405</td>\n",
              "      <td>0.437273</td>\n",
              "      <td>0.248309</td>\n",
              "      <td>120</td>\n",
              "      <td>1229</td>\n",
              "      <td>1349</td>\n",
              "    </tr>\n",
              "    <tr>\n",
              "      <th>3</th>\n",
              "      <td>4</td>\n",
              "      <td>2011-01-04</td>\n",
              "      <td>1</td>\n",
              "      <td>0</td>\n",
              "      <td>1</td>\n",
              "      <td>0</td>\n",
              "      <td>2</td>\n",
              "      <td>1</td>\n",
              "      <td>1</td>\n",
              "      <td>0.200000</td>\n",
              "      <td>0.212122</td>\n",
              "      <td>0.590435</td>\n",
              "      <td>0.160296</td>\n",
              "      <td>108</td>\n",
              "      <td>1454</td>\n",
              "      <td>1562</td>\n",
              "    </tr>\n",
              "    <tr>\n",
              "      <th>4</th>\n",
              "      <td>5</td>\n",
              "      <td>2011-01-05</td>\n",
              "      <td>1</td>\n",
              "      <td>0</td>\n",
              "      <td>1</td>\n",
              "      <td>0</td>\n",
              "      <td>3</td>\n",
              "      <td>1</td>\n",
              "      <td>1</td>\n",
              "      <td>0.226957</td>\n",
              "      <td>0.229270</td>\n",
              "      <td>0.436957</td>\n",
              "      <td>0.186900</td>\n",
              "      <td>82</td>\n",
              "      <td>1518</td>\n",
              "      <td>1600</td>\n",
              "    </tr>\n",
              "  </tbody>\n",
              "</table>\n",
              "</div>"
            ],
            "text/plain": [
              "   instant      dteday  season  yr  mnth  holiday  weekday  workingday  \\\n",
              "0        1  2011-01-01       1   0     1        0        6           0   \n",
              "1        2  2011-01-02       1   0     1        0        0           0   \n",
              "2        3  2011-01-03       1   0     1        0        1           1   \n",
              "3        4  2011-01-04       1   0     1        0        2           1   \n",
              "4        5  2011-01-05       1   0     1        0        3           1   \n",
              "\n",
              "   weathersit      temp     atemp       hum  windspeed  casual  registered  \\\n",
              "0           2  0.344167  0.363625  0.805833   0.160446     331         654   \n",
              "1           2  0.363478  0.353739  0.696087   0.248539     131         670   \n",
              "2           1  0.196364  0.189405  0.437273   0.248309     120        1229   \n",
              "3           1  0.200000  0.212122  0.590435   0.160296     108        1454   \n",
              "4           1  0.226957  0.229270  0.436957   0.186900      82        1518   \n",
              "\n",
              "    cnt  \n",
              "0   985  \n",
              "1   801  \n",
              "2  1349  \n",
              "3  1562  \n",
              "4  1600  "
            ]
          },
          "execution_count": 37,
          "metadata": {},
          "output_type": "execute_result"
        }
      ],
      "source": [
        "day_df = pd.read_csv('https://raw.githubusercontent.com/jasmeinalbr/Proyek-Analisis-Data/main/Data/day.csv')\n",
        "day_df.head()"
      ]
    },
    {
      "cell_type": "code",
      "execution_count": 38,
      "metadata": {
        "colab": {
          "base_uri": "https://localhost:8080/",
          "height": 206
        },
        "id": "Dvp2tRND3IiM",
        "outputId": "0b8305f8-9629-4abf-8759-5a2cce2d66ed"
      },
      "outputs": [
        {
          "data": {
            "text/html": [
              "<div>\n",
              "<style scoped>\n",
              "    .dataframe tbody tr th:only-of-type {\n",
              "        vertical-align: middle;\n",
              "    }\n",
              "\n",
              "    .dataframe tbody tr th {\n",
              "        vertical-align: top;\n",
              "    }\n",
              "\n",
              "    .dataframe thead th {\n",
              "        text-align: right;\n",
              "    }\n",
              "</style>\n",
              "<table border=\"1\" class=\"dataframe\">\n",
              "  <thead>\n",
              "    <tr style=\"text-align: right;\">\n",
              "      <th></th>\n",
              "      <th>instant</th>\n",
              "      <th>dteday</th>\n",
              "      <th>season</th>\n",
              "      <th>yr</th>\n",
              "      <th>mnth</th>\n",
              "      <th>hr</th>\n",
              "      <th>holiday</th>\n",
              "      <th>weekday</th>\n",
              "      <th>workingday</th>\n",
              "      <th>weathersit</th>\n",
              "      <th>temp</th>\n",
              "      <th>atemp</th>\n",
              "      <th>hum</th>\n",
              "      <th>windspeed</th>\n",
              "      <th>casual</th>\n",
              "      <th>registered</th>\n",
              "      <th>cnt</th>\n",
              "    </tr>\n",
              "  </thead>\n",
              "  <tbody>\n",
              "    <tr>\n",
              "      <th>0</th>\n",
              "      <td>1</td>\n",
              "      <td>2011-01-01</td>\n",
              "      <td>1</td>\n",
              "      <td>0</td>\n",
              "      <td>1</td>\n",
              "      <td>0</td>\n",
              "      <td>0</td>\n",
              "      <td>6</td>\n",
              "      <td>0</td>\n",
              "      <td>1</td>\n",
              "      <td>0.24</td>\n",
              "      <td>0.2879</td>\n",
              "      <td>0.81</td>\n",
              "      <td>0.0</td>\n",
              "      <td>3</td>\n",
              "      <td>13</td>\n",
              "      <td>16</td>\n",
              "    </tr>\n",
              "    <tr>\n",
              "      <th>1</th>\n",
              "      <td>2</td>\n",
              "      <td>2011-01-01</td>\n",
              "      <td>1</td>\n",
              "      <td>0</td>\n",
              "      <td>1</td>\n",
              "      <td>1</td>\n",
              "      <td>0</td>\n",
              "      <td>6</td>\n",
              "      <td>0</td>\n",
              "      <td>1</td>\n",
              "      <td>0.22</td>\n",
              "      <td>0.2727</td>\n",
              "      <td>0.80</td>\n",
              "      <td>0.0</td>\n",
              "      <td>8</td>\n",
              "      <td>32</td>\n",
              "      <td>40</td>\n",
              "    </tr>\n",
              "    <tr>\n",
              "      <th>2</th>\n",
              "      <td>3</td>\n",
              "      <td>2011-01-01</td>\n",
              "      <td>1</td>\n",
              "      <td>0</td>\n",
              "      <td>1</td>\n",
              "      <td>2</td>\n",
              "      <td>0</td>\n",
              "      <td>6</td>\n",
              "      <td>0</td>\n",
              "      <td>1</td>\n",
              "      <td>0.22</td>\n",
              "      <td>0.2727</td>\n",
              "      <td>0.80</td>\n",
              "      <td>0.0</td>\n",
              "      <td>5</td>\n",
              "      <td>27</td>\n",
              "      <td>32</td>\n",
              "    </tr>\n",
              "    <tr>\n",
              "      <th>3</th>\n",
              "      <td>4</td>\n",
              "      <td>2011-01-01</td>\n",
              "      <td>1</td>\n",
              "      <td>0</td>\n",
              "      <td>1</td>\n",
              "      <td>3</td>\n",
              "      <td>0</td>\n",
              "      <td>6</td>\n",
              "      <td>0</td>\n",
              "      <td>1</td>\n",
              "      <td>0.24</td>\n",
              "      <td>0.2879</td>\n",
              "      <td>0.75</td>\n",
              "      <td>0.0</td>\n",
              "      <td>3</td>\n",
              "      <td>10</td>\n",
              "      <td>13</td>\n",
              "    </tr>\n",
              "    <tr>\n",
              "      <th>4</th>\n",
              "      <td>5</td>\n",
              "      <td>2011-01-01</td>\n",
              "      <td>1</td>\n",
              "      <td>0</td>\n",
              "      <td>1</td>\n",
              "      <td>4</td>\n",
              "      <td>0</td>\n",
              "      <td>6</td>\n",
              "      <td>0</td>\n",
              "      <td>1</td>\n",
              "      <td>0.24</td>\n",
              "      <td>0.2879</td>\n",
              "      <td>0.75</td>\n",
              "      <td>0.0</td>\n",
              "      <td>0</td>\n",
              "      <td>1</td>\n",
              "      <td>1</td>\n",
              "    </tr>\n",
              "  </tbody>\n",
              "</table>\n",
              "</div>"
            ],
            "text/plain": [
              "   instant      dteday  season  yr  mnth  hr  holiday  weekday  workingday  \\\n",
              "0        1  2011-01-01       1   0     1   0        0        6           0   \n",
              "1        2  2011-01-01       1   0     1   1        0        6           0   \n",
              "2        3  2011-01-01       1   0     1   2        0        6           0   \n",
              "3        4  2011-01-01       1   0     1   3        0        6           0   \n",
              "4        5  2011-01-01       1   0     1   4        0        6           0   \n",
              "\n",
              "   weathersit  temp   atemp   hum  windspeed  casual  registered  cnt  \n",
              "0           1  0.24  0.2879  0.81        0.0       3          13   16  \n",
              "1           1  0.22  0.2727  0.80        0.0       8          32   40  \n",
              "2           1  0.22  0.2727  0.80        0.0       5          27   32  \n",
              "3           1  0.24  0.2879  0.75        0.0       3          10   13  \n",
              "4           1  0.24  0.2879  0.75        0.0       0           1    1  "
            ]
          },
          "execution_count": 38,
          "metadata": {},
          "output_type": "execute_result"
        }
      ],
      "source": [
        "hour_df = pd.read_csv('https://raw.githubusercontent.com/jasmeinalbr/Proyek-Analisis-Data/main/Data/hour.csv')\n",
        "hour_df.head()"
      ]
    },
    {
      "cell_type": "markdown",
      "metadata": {
        "id": "MMi6xGaDkbCi"
      },
      "source": [
        "**Insight:**\n",
        "- Tabel penyewaan sepeda yang dikumpulkan berdasarkan hari.\n",
        "- Tabel penyewaan sepeda yang dikumpulkan berdasarkan jam."
      ]
    },
    {
      "cell_type": "markdown",
      "metadata": {
        "id": "FHSiqaZp8DC1"
      },
      "source": [
        "### Assessing Data"
      ]
    },
    {
      "cell_type": "markdown",
      "metadata": {
        "id": "R7nldCfc4KfA"
      },
      "source": [
        "#### Menilai tabel `day_df` dan `hour_df`"
      ]
    },
    {
      "cell_type": "markdown",
      "metadata": {
        "id": "akFBsU95_b3h"
      },
      "source": [
        "Tabel `day_df`"
      ]
    },
    {
      "cell_type": "code",
      "execution_count": 39,
      "metadata": {
        "colab": {
          "base_uri": "https://localhost:8080/"
        },
        "id": "ax-3tEjc9Cj1",
        "outputId": "f23cf295-45c6-4804-847e-8d995fa377c1"
      },
      "outputs": [
        {
          "name": "stdout",
          "output_type": "stream",
          "text": [
            "<class 'pandas.core.frame.DataFrame'>\n",
            "RangeIndex: 731 entries, 0 to 730\n",
            "Data columns (total 16 columns):\n",
            " #   Column      Non-Null Count  Dtype  \n",
            "---  ------      --------------  -----  \n",
            " 0   instant     731 non-null    int64  \n",
            " 1   dteday      731 non-null    object \n",
            " 2   season      731 non-null    int64  \n",
            " 3   yr          731 non-null    int64  \n",
            " 4   mnth        731 non-null    int64  \n",
            " 5   holiday     731 non-null    int64  \n",
            " 6   weekday     731 non-null    int64  \n",
            " 7   workingday  731 non-null    int64  \n",
            " 8   weathersit  731 non-null    int64  \n",
            " 9   temp        731 non-null    float64\n",
            " 10  atemp       731 non-null    float64\n",
            " 11  hum         731 non-null    float64\n",
            " 12  windspeed   731 non-null    float64\n",
            " 13  casual      731 non-null    int64  \n",
            " 14  registered  731 non-null    int64  \n",
            " 15  cnt         731 non-null    int64  \n",
            "dtypes: float64(4), int64(11), object(1)\n",
            "memory usage: 91.5+ KB\n"
          ]
        }
      ],
      "source": [
        "day_df.info()"
      ]
    },
    {
      "cell_type": "markdown",
      "metadata": {
        "id": "XehAc46R_fZq"
      },
      "source": [
        "Tabel `hour_df`"
      ]
    },
    {
      "cell_type": "code",
      "execution_count": 40,
      "metadata": {
        "colab": {
          "base_uri": "https://localhost:8080/"
        },
        "id": "we7NLjMr_S2i",
        "outputId": "6c0276b3-c55a-44e9-a359-5323baa7a0b4"
      },
      "outputs": [
        {
          "name": "stdout",
          "output_type": "stream",
          "text": [
            "<class 'pandas.core.frame.DataFrame'>\n",
            "RangeIndex: 17379 entries, 0 to 17378\n",
            "Data columns (total 17 columns):\n",
            " #   Column      Non-Null Count  Dtype  \n",
            "---  ------      --------------  -----  \n",
            " 0   instant     17379 non-null  int64  \n",
            " 1   dteday      17379 non-null  object \n",
            " 2   season      17379 non-null  int64  \n",
            " 3   yr          17379 non-null  int64  \n",
            " 4   mnth        17379 non-null  int64  \n",
            " 5   hr          17379 non-null  int64  \n",
            " 6   holiday     17379 non-null  int64  \n",
            " 7   weekday     17379 non-null  int64  \n",
            " 8   workingday  17379 non-null  int64  \n",
            " 9   weathersit  17379 non-null  int64  \n",
            " 10  temp        17379 non-null  float64\n",
            " 11  atemp       17379 non-null  float64\n",
            " 12  hum         17379 non-null  float64\n",
            " 13  windspeed   17379 non-null  float64\n",
            " 14  casual      17379 non-null  int64  \n",
            " 15  registered  17379 non-null  int64  \n",
            " 16  cnt         17379 non-null  int64  \n",
            "dtypes: float64(4), int64(12), object(1)\n",
            "memory usage: 2.3+ MB\n"
          ]
        }
      ],
      "source": [
        "hour_df.info()"
      ]
    },
    {
      "cell_type": "markdown",
      "metadata": {
        "id": "izYu9K5Z_kaJ"
      },
      "source": [
        "Mengecek missing value"
      ]
    },
    {
      "cell_type": "code",
      "execution_count": 41,
      "metadata": {
        "colab": {
          "base_uri": "https://localhost:8080/",
          "height": 586
        },
        "id": "a0Tczwzx4nqD",
        "outputId": "c094cad2-1478-47a9-8bdc-402683de0174"
      },
      "outputs": [
        {
          "data": {
            "text/plain": [
              "instant       0\n",
              "dteday        0\n",
              "season        0\n",
              "yr            0\n",
              "mnth          0\n",
              "holiday       0\n",
              "weekday       0\n",
              "workingday    0\n",
              "weathersit    0\n",
              "temp          0\n",
              "atemp         0\n",
              "hum           0\n",
              "windspeed     0\n",
              "casual        0\n",
              "registered    0\n",
              "cnt           0\n",
              "dtype: int64"
            ]
          },
          "execution_count": 41,
          "metadata": {},
          "output_type": "execute_result"
        }
      ],
      "source": [
        "day_df.isna().sum()"
      ]
    },
    {
      "cell_type": "code",
      "execution_count": 42,
      "metadata": {
        "colab": {
          "base_uri": "https://localhost:8080/",
          "height": 617
        },
        "id": "BClSOwWB_sHw",
        "outputId": "74db472e-7ece-4b31-bea9-a0fdf915b33e"
      },
      "outputs": [
        {
          "data": {
            "text/plain": [
              "instant       0\n",
              "dteday        0\n",
              "season        0\n",
              "yr            0\n",
              "mnth          0\n",
              "hr            0\n",
              "holiday       0\n",
              "weekday       0\n",
              "workingday    0\n",
              "weathersit    0\n",
              "temp          0\n",
              "atemp         0\n",
              "hum           0\n",
              "windspeed     0\n",
              "casual        0\n",
              "registered    0\n",
              "cnt           0\n",
              "dtype: int64"
            ]
          },
          "execution_count": 42,
          "metadata": {},
          "output_type": "execute_result"
        }
      ],
      "source": [
        "hour_df.isna().sum()"
      ]
    },
    {
      "cell_type": "markdown",
      "metadata": {
        "id": "ls7oZ8Tb_0fE"
      },
      "source": [
        "Mengecek duplikasi data"
      ]
    },
    {
      "cell_type": "code",
      "execution_count": 43,
      "metadata": {
        "colab": {
          "base_uri": "https://localhost:8080/"
        },
        "id": "Xq0byesn49Sm",
        "outputId": "0a3475b7-b50c-4980-bee7-ff5b1f7822ac"
      },
      "outputs": [
        {
          "name": "stdout",
          "output_type": "stream",
          "text": [
            "Jumlah duplikasi data tabel day_df:  0\n"
          ]
        }
      ],
      "source": [
        "print(\"Jumlah duplikasi data tabel day_df: \", day_df.duplicated().sum())"
      ]
    },
    {
      "cell_type": "code",
      "execution_count": 44,
      "metadata": {
        "colab": {
          "base_uri": "https://localhost:8080/"
        },
        "id": "jGdOXVuW_4yY",
        "outputId": "13dd018f-856a-456d-8628-ab46c6a9edc7"
      },
      "outputs": [
        {
          "name": "stdout",
          "output_type": "stream",
          "text": [
            "Jumlah duplikasi data tabel hour_df:  0\n"
          ]
        }
      ],
      "source": [
        "print(\"Jumlah duplikasi data tabel hour_df: \", hour_df.duplicated().sum())"
      ]
    },
    {
      "cell_type": "markdown",
      "metadata": {
        "id": "I_Y3N5B_AUyE"
      },
      "source": [
        "Ringkasan parameter statistik"
      ]
    },
    {
      "cell_type": "code",
      "execution_count": 45,
      "metadata": {
        "colab": {
          "base_uri": "https://localhost:8080/",
          "height": 300
        },
        "id": "f52HMI5p5Rxb",
        "outputId": "7f3ec8ab-07bc-4d12-df58-df2fc389436e"
      },
      "outputs": [
        {
          "data": {
            "text/html": [
              "<div>\n",
              "<style scoped>\n",
              "    .dataframe tbody tr th:only-of-type {\n",
              "        vertical-align: middle;\n",
              "    }\n",
              "\n",
              "    .dataframe tbody tr th {\n",
              "        vertical-align: top;\n",
              "    }\n",
              "\n",
              "    .dataframe thead th {\n",
              "        text-align: right;\n",
              "    }\n",
              "</style>\n",
              "<table border=\"1\" class=\"dataframe\">\n",
              "  <thead>\n",
              "    <tr style=\"text-align: right;\">\n",
              "      <th></th>\n",
              "      <th>instant</th>\n",
              "      <th>season</th>\n",
              "      <th>yr</th>\n",
              "      <th>mnth</th>\n",
              "      <th>holiday</th>\n",
              "      <th>weekday</th>\n",
              "      <th>workingday</th>\n",
              "      <th>weathersit</th>\n",
              "      <th>temp</th>\n",
              "      <th>atemp</th>\n",
              "      <th>hum</th>\n",
              "      <th>windspeed</th>\n",
              "      <th>casual</th>\n",
              "      <th>registered</th>\n",
              "      <th>cnt</th>\n",
              "    </tr>\n",
              "  </thead>\n",
              "  <tbody>\n",
              "    <tr>\n",
              "      <th>count</th>\n",
              "      <td>731.000000</td>\n",
              "      <td>731.000000</td>\n",
              "      <td>731.000000</td>\n",
              "      <td>731.000000</td>\n",
              "      <td>731.000000</td>\n",
              "      <td>731.000000</td>\n",
              "      <td>731.000000</td>\n",
              "      <td>731.000000</td>\n",
              "      <td>731.000000</td>\n",
              "      <td>731.000000</td>\n",
              "      <td>731.000000</td>\n",
              "      <td>731.000000</td>\n",
              "      <td>731.000000</td>\n",
              "      <td>731.000000</td>\n",
              "      <td>731.000000</td>\n",
              "    </tr>\n",
              "    <tr>\n",
              "      <th>mean</th>\n",
              "      <td>366.000000</td>\n",
              "      <td>2.496580</td>\n",
              "      <td>0.500684</td>\n",
              "      <td>6.519836</td>\n",
              "      <td>0.028728</td>\n",
              "      <td>2.997264</td>\n",
              "      <td>0.683995</td>\n",
              "      <td>1.395349</td>\n",
              "      <td>0.495385</td>\n",
              "      <td>0.474354</td>\n",
              "      <td>0.627894</td>\n",
              "      <td>0.190486</td>\n",
              "      <td>848.176471</td>\n",
              "      <td>3656.172367</td>\n",
              "      <td>4504.348837</td>\n",
              "    </tr>\n",
              "    <tr>\n",
              "      <th>std</th>\n",
              "      <td>211.165812</td>\n",
              "      <td>1.110807</td>\n",
              "      <td>0.500342</td>\n",
              "      <td>3.451913</td>\n",
              "      <td>0.167155</td>\n",
              "      <td>2.004787</td>\n",
              "      <td>0.465233</td>\n",
              "      <td>0.544894</td>\n",
              "      <td>0.183051</td>\n",
              "      <td>0.162961</td>\n",
              "      <td>0.142429</td>\n",
              "      <td>0.077498</td>\n",
              "      <td>686.622488</td>\n",
              "      <td>1560.256377</td>\n",
              "      <td>1937.211452</td>\n",
              "    </tr>\n",
              "    <tr>\n",
              "      <th>min</th>\n",
              "      <td>1.000000</td>\n",
              "      <td>1.000000</td>\n",
              "      <td>0.000000</td>\n",
              "      <td>1.000000</td>\n",
              "      <td>0.000000</td>\n",
              "      <td>0.000000</td>\n",
              "      <td>0.000000</td>\n",
              "      <td>1.000000</td>\n",
              "      <td>0.059130</td>\n",
              "      <td>0.079070</td>\n",
              "      <td>0.000000</td>\n",
              "      <td>0.022392</td>\n",
              "      <td>2.000000</td>\n",
              "      <td>20.000000</td>\n",
              "      <td>22.000000</td>\n",
              "    </tr>\n",
              "    <tr>\n",
              "      <th>25%</th>\n",
              "      <td>183.500000</td>\n",
              "      <td>2.000000</td>\n",
              "      <td>0.000000</td>\n",
              "      <td>4.000000</td>\n",
              "      <td>0.000000</td>\n",
              "      <td>1.000000</td>\n",
              "      <td>0.000000</td>\n",
              "      <td>1.000000</td>\n",
              "      <td>0.337083</td>\n",
              "      <td>0.337842</td>\n",
              "      <td>0.520000</td>\n",
              "      <td>0.134950</td>\n",
              "      <td>315.500000</td>\n",
              "      <td>2497.000000</td>\n",
              "      <td>3152.000000</td>\n",
              "    </tr>\n",
              "    <tr>\n",
              "      <th>50%</th>\n",
              "      <td>366.000000</td>\n",
              "      <td>3.000000</td>\n",
              "      <td>1.000000</td>\n",
              "      <td>7.000000</td>\n",
              "      <td>0.000000</td>\n",
              "      <td>3.000000</td>\n",
              "      <td>1.000000</td>\n",
              "      <td>1.000000</td>\n",
              "      <td>0.498333</td>\n",
              "      <td>0.486733</td>\n",
              "      <td>0.626667</td>\n",
              "      <td>0.180975</td>\n",
              "      <td>713.000000</td>\n",
              "      <td>3662.000000</td>\n",
              "      <td>4548.000000</td>\n",
              "    </tr>\n",
              "    <tr>\n",
              "      <th>75%</th>\n",
              "      <td>548.500000</td>\n",
              "      <td>3.000000</td>\n",
              "      <td>1.000000</td>\n",
              "      <td>10.000000</td>\n",
              "      <td>0.000000</td>\n",
              "      <td>5.000000</td>\n",
              "      <td>1.000000</td>\n",
              "      <td>2.000000</td>\n",
              "      <td>0.655417</td>\n",
              "      <td>0.608602</td>\n",
              "      <td>0.730209</td>\n",
              "      <td>0.233214</td>\n",
              "      <td>1096.000000</td>\n",
              "      <td>4776.500000</td>\n",
              "      <td>5956.000000</td>\n",
              "    </tr>\n",
              "    <tr>\n",
              "      <th>max</th>\n",
              "      <td>731.000000</td>\n",
              "      <td>4.000000</td>\n",
              "      <td>1.000000</td>\n",
              "      <td>12.000000</td>\n",
              "      <td>1.000000</td>\n",
              "      <td>6.000000</td>\n",
              "      <td>1.000000</td>\n",
              "      <td>3.000000</td>\n",
              "      <td>0.861667</td>\n",
              "      <td>0.840896</td>\n",
              "      <td>0.972500</td>\n",
              "      <td>0.507463</td>\n",
              "      <td>3410.000000</td>\n",
              "      <td>6946.000000</td>\n",
              "      <td>8714.000000</td>\n",
              "    </tr>\n",
              "  </tbody>\n",
              "</table>\n",
              "</div>"
            ],
            "text/plain": [
              "          instant      season          yr        mnth     holiday     weekday  \\\n",
              "count  731.000000  731.000000  731.000000  731.000000  731.000000  731.000000   \n",
              "mean   366.000000    2.496580    0.500684    6.519836    0.028728    2.997264   \n",
              "std    211.165812    1.110807    0.500342    3.451913    0.167155    2.004787   \n",
              "min      1.000000    1.000000    0.000000    1.000000    0.000000    0.000000   \n",
              "25%    183.500000    2.000000    0.000000    4.000000    0.000000    1.000000   \n",
              "50%    366.000000    3.000000    1.000000    7.000000    0.000000    3.000000   \n",
              "75%    548.500000    3.000000    1.000000   10.000000    0.000000    5.000000   \n",
              "max    731.000000    4.000000    1.000000   12.000000    1.000000    6.000000   \n",
              "\n",
              "       workingday  weathersit        temp       atemp         hum   windspeed  \\\n",
              "count  731.000000  731.000000  731.000000  731.000000  731.000000  731.000000   \n",
              "mean     0.683995    1.395349    0.495385    0.474354    0.627894    0.190486   \n",
              "std      0.465233    0.544894    0.183051    0.162961    0.142429    0.077498   \n",
              "min      0.000000    1.000000    0.059130    0.079070    0.000000    0.022392   \n",
              "25%      0.000000    1.000000    0.337083    0.337842    0.520000    0.134950   \n",
              "50%      1.000000    1.000000    0.498333    0.486733    0.626667    0.180975   \n",
              "75%      1.000000    2.000000    0.655417    0.608602    0.730209    0.233214   \n",
              "max      1.000000    3.000000    0.861667    0.840896    0.972500    0.507463   \n",
              "\n",
              "            casual   registered          cnt  \n",
              "count   731.000000   731.000000   731.000000  \n",
              "mean    848.176471  3656.172367  4504.348837  \n",
              "std     686.622488  1560.256377  1937.211452  \n",
              "min       2.000000    20.000000    22.000000  \n",
              "25%     315.500000  2497.000000  3152.000000  \n",
              "50%     713.000000  3662.000000  4548.000000  \n",
              "75%    1096.000000  4776.500000  5956.000000  \n",
              "max    3410.000000  6946.000000  8714.000000  "
            ]
          },
          "execution_count": 45,
          "metadata": {},
          "output_type": "execute_result"
        }
      ],
      "source": [
        "day_df.describe()"
      ]
    },
    {
      "cell_type": "code",
      "execution_count": 46,
      "metadata": {
        "colab": {
          "base_uri": "https://localhost:8080/",
          "height": 300
        },
        "id": "QBSwdReMAEmx",
        "outputId": "5e4b8418-1891-4b3d-8720-c8678aa06b27"
      },
      "outputs": [
        {
          "data": {
            "text/html": [
              "<div>\n",
              "<style scoped>\n",
              "    .dataframe tbody tr th:only-of-type {\n",
              "        vertical-align: middle;\n",
              "    }\n",
              "\n",
              "    .dataframe tbody tr th {\n",
              "        vertical-align: top;\n",
              "    }\n",
              "\n",
              "    .dataframe thead th {\n",
              "        text-align: right;\n",
              "    }\n",
              "</style>\n",
              "<table border=\"1\" class=\"dataframe\">\n",
              "  <thead>\n",
              "    <tr style=\"text-align: right;\">\n",
              "      <th></th>\n",
              "      <th>instant</th>\n",
              "      <th>season</th>\n",
              "      <th>yr</th>\n",
              "      <th>mnth</th>\n",
              "      <th>hr</th>\n",
              "      <th>holiday</th>\n",
              "      <th>weekday</th>\n",
              "      <th>workingday</th>\n",
              "      <th>weathersit</th>\n",
              "      <th>temp</th>\n",
              "      <th>atemp</th>\n",
              "      <th>hum</th>\n",
              "      <th>windspeed</th>\n",
              "      <th>casual</th>\n",
              "      <th>registered</th>\n",
              "      <th>cnt</th>\n",
              "    </tr>\n",
              "  </thead>\n",
              "  <tbody>\n",
              "    <tr>\n",
              "      <th>count</th>\n",
              "      <td>17379.0000</td>\n",
              "      <td>17379.000000</td>\n",
              "      <td>17379.000000</td>\n",
              "      <td>17379.000000</td>\n",
              "      <td>17379.000000</td>\n",
              "      <td>17379.000000</td>\n",
              "      <td>17379.000000</td>\n",
              "      <td>17379.000000</td>\n",
              "      <td>17379.000000</td>\n",
              "      <td>17379.000000</td>\n",
              "      <td>17379.000000</td>\n",
              "      <td>17379.000000</td>\n",
              "      <td>17379.000000</td>\n",
              "      <td>17379.000000</td>\n",
              "      <td>17379.000000</td>\n",
              "      <td>17379.000000</td>\n",
              "    </tr>\n",
              "    <tr>\n",
              "      <th>mean</th>\n",
              "      <td>8690.0000</td>\n",
              "      <td>2.501640</td>\n",
              "      <td>0.502561</td>\n",
              "      <td>6.537775</td>\n",
              "      <td>11.546752</td>\n",
              "      <td>0.028770</td>\n",
              "      <td>3.003683</td>\n",
              "      <td>0.682721</td>\n",
              "      <td>1.425283</td>\n",
              "      <td>0.496987</td>\n",
              "      <td>0.475775</td>\n",
              "      <td>0.627229</td>\n",
              "      <td>0.190098</td>\n",
              "      <td>35.676218</td>\n",
              "      <td>153.786869</td>\n",
              "      <td>189.463088</td>\n",
              "    </tr>\n",
              "    <tr>\n",
              "      <th>std</th>\n",
              "      <td>5017.0295</td>\n",
              "      <td>1.106918</td>\n",
              "      <td>0.500008</td>\n",
              "      <td>3.438776</td>\n",
              "      <td>6.914405</td>\n",
              "      <td>0.167165</td>\n",
              "      <td>2.005771</td>\n",
              "      <td>0.465431</td>\n",
              "      <td>0.639357</td>\n",
              "      <td>0.192556</td>\n",
              "      <td>0.171850</td>\n",
              "      <td>0.192930</td>\n",
              "      <td>0.122340</td>\n",
              "      <td>49.305030</td>\n",
              "      <td>151.357286</td>\n",
              "      <td>181.387599</td>\n",
              "    </tr>\n",
              "    <tr>\n",
              "      <th>min</th>\n",
              "      <td>1.0000</td>\n",
              "      <td>1.000000</td>\n",
              "      <td>0.000000</td>\n",
              "      <td>1.000000</td>\n",
              "      <td>0.000000</td>\n",
              "      <td>0.000000</td>\n",
              "      <td>0.000000</td>\n",
              "      <td>0.000000</td>\n",
              "      <td>1.000000</td>\n",
              "      <td>0.020000</td>\n",
              "      <td>0.000000</td>\n",
              "      <td>0.000000</td>\n",
              "      <td>0.000000</td>\n",
              "      <td>0.000000</td>\n",
              "      <td>0.000000</td>\n",
              "      <td>1.000000</td>\n",
              "    </tr>\n",
              "    <tr>\n",
              "      <th>25%</th>\n",
              "      <td>4345.5000</td>\n",
              "      <td>2.000000</td>\n",
              "      <td>0.000000</td>\n",
              "      <td>4.000000</td>\n",
              "      <td>6.000000</td>\n",
              "      <td>0.000000</td>\n",
              "      <td>1.000000</td>\n",
              "      <td>0.000000</td>\n",
              "      <td>1.000000</td>\n",
              "      <td>0.340000</td>\n",
              "      <td>0.333300</td>\n",
              "      <td>0.480000</td>\n",
              "      <td>0.104500</td>\n",
              "      <td>4.000000</td>\n",
              "      <td>34.000000</td>\n",
              "      <td>40.000000</td>\n",
              "    </tr>\n",
              "    <tr>\n",
              "      <th>50%</th>\n",
              "      <td>8690.0000</td>\n",
              "      <td>3.000000</td>\n",
              "      <td>1.000000</td>\n",
              "      <td>7.000000</td>\n",
              "      <td>12.000000</td>\n",
              "      <td>0.000000</td>\n",
              "      <td>3.000000</td>\n",
              "      <td>1.000000</td>\n",
              "      <td>1.000000</td>\n",
              "      <td>0.500000</td>\n",
              "      <td>0.484800</td>\n",
              "      <td>0.630000</td>\n",
              "      <td>0.194000</td>\n",
              "      <td>17.000000</td>\n",
              "      <td>115.000000</td>\n",
              "      <td>142.000000</td>\n",
              "    </tr>\n",
              "    <tr>\n",
              "      <th>75%</th>\n",
              "      <td>13034.5000</td>\n",
              "      <td>3.000000</td>\n",
              "      <td>1.000000</td>\n",
              "      <td>10.000000</td>\n",
              "      <td>18.000000</td>\n",
              "      <td>0.000000</td>\n",
              "      <td>5.000000</td>\n",
              "      <td>1.000000</td>\n",
              "      <td>2.000000</td>\n",
              "      <td>0.660000</td>\n",
              "      <td>0.621200</td>\n",
              "      <td>0.780000</td>\n",
              "      <td>0.253700</td>\n",
              "      <td>48.000000</td>\n",
              "      <td>220.000000</td>\n",
              "      <td>281.000000</td>\n",
              "    </tr>\n",
              "    <tr>\n",
              "      <th>max</th>\n",
              "      <td>17379.0000</td>\n",
              "      <td>4.000000</td>\n",
              "      <td>1.000000</td>\n",
              "      <td>12.000000</td>\n",
              "      <td>23.000000</td>\n",
              "      <td>1.000000</td>\n",
              "      <td>6.000000</td>\n",
              "      <td>1.000000</td>\n",
              "      <td>4.000000</td>\n",
              "      <td>1.000000</td>\n",
              "      <td>1.000000</td>\n",
              "      <td>1.000000</td>\n",
              "      <td>0.850700</td>\n",
              "      <td>367.000000</td>\n",
              "      <td>886.000000</td>\n",
              "      <td>977.000000</td>\n",
              "    </tr>\n",
              "  </tbody>\n",
              "</table>\n",
              "</div>"
            ],
            "text/plain": [
              "          instant        season            yr          mnth            hr  \\\n",
              "count  17379.0000  17379.000000  17379.000000  17379.000000  17379.000000   \n",
              "mean    8690.0000      2.501640      0.502561      6.537775     11.546752   \n",
              "std     5017.0295      1.106918      0.500008      3.438776      6.914405   \n",
              "min        1.0000      1.000000      0.000000      1.000000      0.000000   \n",
              "25%     4345.5000      2.000000      0.000000      4.000000      6.000000   \n",
              "50%     8690.0000      3.000000      1.000000      7.000000     12.000000   \n",
              "75%    13034.5000      3.000000      1.000000     10.000000     18.000000   \n",
              "max    17379.0000      4.000000      1.000000     12.000000     23.000000   \n",
              "\n",
              "            holiday       weekday    workingday    weathersit          temp  \\\n",
              "count  17379.000000  17379.000000  17379.000000  17379.000000  17379.000000   \n",
              "mean       0.028770      3.003683      0.682721      1.425283      0.496987   \n",
              "std        0.167165      2.005771      0.465431      0.639357      0.192556   \n",
              "min        0.000000      0.000000      0.000000      1.000000      0.020000   \n",
              "25%        0.000000      1.000000      0.000000      1.000000      0.340000   \n",
              "50%        0.000000      3.000000      1.000000      1.000000      0.500000   \n",
              "75%        0.000000      5.000000      1.000000      2.000000      0.660000   \n",
              "max        1.000000      6.000000      1.000000      4.000000      1.000000   \n",
              "\n",
              "              atemp           hum     windspeed        casual    registered  \\\n",
              "count  17379.000000  17379.000000  17379.000000  17379.000000  17379.000000   \n",
              "mean       0.475775      0.627229      0.190098     35.676218    153.786869   \n",
              "std        0.171850      0.192930      0.122340     49.305030    151.357286   \n",
              "min        0.000000      0.000000      0.000000      0.000000      0.000000   \n",
              "25%        0.333300      0.480000      0.104500      4.000000     34.000000   \n",
              "50%        0.484800      0.630000      0.194000     17.000000    115.000000   \n",
              "75%        0.621200      0.780000      0.253700     48.000000    220.000000   \n",
              "max        1.000000      1.000000      0.850700    367.000000    886.000000   \n",
              "\n",
              "                cnt  \n",
              "count  17379.000000  \n",
              "mean     189.463088  \n",
              "std      181.387599  \n",
              "min        1.000000  \n",
              "25%       40.000000  \n",
              "50%      142.000000  \n",
              "75%      281.000000  \n",
              "max      977.000000  "
            ]
          },
          "execution_count": 46,
          "metadata": {},
          "output_type": "execute_result"
        }
      ],
      "source": [
        "hour_df.describe()"
      ]
    },
    {
      "cell_type": "markdown",
      "metadata": {
        "id": "7dtxhAPrkhPL"
      },
      "source": [
        "**Insight:**\n",
        "- Tidak ada missing value.\n",
        "- Tidak ada duplikasi data.\n",
        "- Terdapat tipe data yang menurut saya kurang sesuai pada kolom dteday, season, yr, mnth, holiday, weekday, workingday dan weathersit."
      ]
    },
    {
      "cell_type": "markdown",
      "metadata": {
        "id": "EhN5R4hr8DC1"
      },
      "source": [
        "### Cleaning Data"
      ]
    },
    {
      "cell_type": "markdown",
      "metadata": {
        "id": "b8zNP4chCvvC"
      },
      "source": [
        "Mengubah tipe data pada kolom dteday, season, yr, mnth, holiday, weekday, workingday dan weathersit."
      ]
    },
    {
      "cell_type": "code",
      "execution_count": 47,
      "metadata": {
        "id": "1KmZdbJuCy9t"
      },
      "outputs": [],
      "source": [
        "# Mengubah tipe data object menjadi datetime\n",
        "day_df['dteday'] = pd.to_datetime(day_df['dteday'])\n",
        "hour_df['dteday'] = pd.to_datetime(hour_df['dteday'])\n",
        "\n",
        "# Mengubah tipe data int menjadi category\n",
        "columns = ['season', 'yr', 'mnth', 'holiday', 'weekday', 'workingday', 'weathersit']\n",
        "\n",
        "for column in columns:\n",
        "    day_df[column] =  day_df[column].astype(\"category\")\n",
        "    hour_df[column] =  hour_df[column].astype(\"category\")"
      ]
    },
    {
      "cell_type": "markdown",
      "metadata": {
        "id": "TSmHNlz3D74h"
      },
      "source": [
        "Mengubah nama kolom agar lebih mudah dipahami"
      ]
    },
    {
      "cell_type": "code",
      "execution_count": 48,
      "metadata": {
        "id": "WO7-sWvmD_hF"
      },
      "outputs": [],
      "source": [
        "# Kolom day\n",
        "day_df.rename(columns={'dteday':'date','yr':'year','mnth':'month','weekday':'day_of_week', 'weathersit':'weather_situation', 'windspeed':'wind_speed','cnt':'count','hum':'humidity'},inplace=True)\n",
        "# Kolom hour\n",
        "hour_df.rename(columns={'dteday':'date','yr':'year','hr':'hours','mnth':'month','weekday':'day_of_week', 'weathersit':'weather_situation','windspeed':'wind_speed','cnt':'count','hum':'humidity'},inplace=True)"
      ]
    },
    {
      "cell_type": "markdown",
      "metadata": {
        "id": "ZlnBVrNXE8Z5"
      },
      "source": [
        "Mengubah isi kolom agar lebih mudah dipahami"
      ]
    },
    {
      "cell_type": "code",
      "execution_count": 49,
      "metadata": {
        "colab": {
          "base_uri": "https://localhost:8080/"
        },
        "collapsed": true,
        "id": "CmZuZdOxJ5ZB",
        "outputId": "8da518fc-cde8-46e2-9034-442431dc3fa9"
      },
      "outputs": [
        {
          "name": "stderr",
          "output_type": "stream",
          "text": [
            "/var/folders/pv/hl8lt53s3212m50jmr0nb5q00000gp/T/ipykernel_12483/2322818834.py:2: FutureWarning: A value is trying to be set on a copy of a DataFrame or Series through chained assignment using an inplace method.\n",
            "The behavior will change in pandas 3.0. This inplace method will never work because the intermediate object on which we are setting values always behaves as a copy.\n",
            "\n",
            "For example, when doing 'df[col].method(value, inplace=True)', try using 'df.method({col: value}, inplace=True)' or df[col] = df[col].method(value) instead, to perform the operation inplace on the original object.\n",
            "\n",
            "\n",
            "  day_df.season.replace((1,2,3,4), ('Spring','Summer','Fall','Winter'), inplace=True)\n",
            "/var/folders/pv/hl8lt53s3212m50jmr0nb5q00000gp/T/ipykernel_12483/2322818834.py:2: FutureWarning: The behavior of Series.replace (and DataFrame.replace) with CategoricalDtype is deprecated. In a future version, replace will only be used for cases that preserve the categories. To change the categories, use ser.cat.rename_categories instead.\n",
            "  day_df.season.replace((1,2,3,4), ('Spring','Summer','Fall','Winter'), inplace=True)\n",
            "/var/folders/pv/hl8lt53s3212m50jmr0nb5q00000gp/T/ipykernel_12483/2322818834.py:3: FutureWarning: A value is trying to be set on a copy of a DataFrame or Series through chained assignment using an inplace method.\n",
            "The behavior will change in pandas 3.0. This inplace method will never work because the intermediate object on which we are setting values always behaves as a copy.\n",
            "\n",
            "For example, when doing 'df[col].method(value, inplace=True)', try using 'df.method({col: value}, inplace=True)' or df[col] = df[col].method(value) instead, to perform the operation inplace on the original object.\n",
            "\n",
            "\n",
            "  hour_df.season.replace((1,2,3,4), ('Spring','Summer','Fall','Winter'), inplace=True)\n",
            "/var/folders/pv/hl8lt53s3212m50jmr0nb5q00000gp/T/ipykernel_12483/2322818834.py:3: FutureWarning: The behavior of Series.replace (and DataFrame.replace) with CategoricalDtype is deprecated. In a future version, replace will only be used for cases that preserve the categories. To change the categories, use ser.cat.rename_categories instead.\n",
            "  hour_df.season.replace((1,2,3,4), ('Spring','Summer','Fall','Winter'), inplace=True)\n",
            "/var/folders/pv/hl8lt53s3212m50jmr0nb5q00000gp/T/ipykernel_12483/2322818834.py:6: FutureWarning: A value is trying to be set on a copy of a DataFrame or Series through chained assignment using an inplace method.\n",
            "The behavior will change in pandas 3.0. This inplace method will never work because the intermediate object on which we are setting values always behaves as a copy.\n",
            "\n",
            "For example, when doing 'df[col].method(value, inplace=True)', try using 'df.method({col: value}, inplace=True)' or df[col] = df[col].method(value) instead, to perform the operation inplace on the original object.\n",
            "\n",
            "\n",
            "  day_df.year.replace((0,1), ('2011','2012'), inplace=True)\n",
            "/var/folders/pv/hl8lt53s3212m50jmr0nb5q00000gp/T/ipykernel_12483/2322818834.py:6: FutureWarning: The behavior of Series.replace (and DataFrame.replace) with CategoricalDtype is deprecated. In a future version, replace will only be used for cases that preserve the categories. To change the categories, use ser.cat.rename_categories instead.\n",
            "  day_df.year.replace((0,1), ('2011','2012'), inplace=True)\n",
            "/var/folders/pv/hl8lt53s3212m50jmr0nb5q00000gp/T/ipykernel_12483/2322818834.py:7: FutureWarning: A value is trying to be set on a copy of a DataFrame or Series through chained assignment using an inplace method.\n",
            "The behavior will change in pandas 3.0. This inplace method will never work because the intermediate object on which we are setting values always behaves as a copy.\n",
            "\n",
            "For example, when doing 'df[col].method(value, inplace=True)', try using 'df.method({col: value}, inplace=True)' or df[col] = df[col].method(value) instead, to perform the operation inplace on the original object.\n",
            "\n",
            "\n",
            "  hour_df.year.replace((0,1), ('2011','2012'), inplace=True)\n",
            "/var/folders/pv/hl8lt53s3212m50jmr0nb5q00000gp/T/ipykernel_12483/2322818834.py:7: FutureWarning: The behavior of Series.replace (and DataFrame.replace) with CategoricalDtype is deprecated. In a future version, replace will only be used for cases that preserve the categories. To change the categories, use ser.cat.rename_categories instead.\n",
            "  hour_df.year.replace((0,1), ('2011','2012'), inplace=True)\n",
            "/var/folders/pv/hl8lt53s3212m50jmr0nb5q00000gp/T/ipykernel_12483/2322818834.py:10: FutureWarning: A value is trying to be set on a copy of a DataFrame or Series through chained assignment using an inplace method.\n",
            "The behavior will change in pandas 3.0. This inplace method will never work because the intermediate object on which we are setting values always behaves as a copy.\n",
            "\n",
            "For example, when doing 'df[col].method(value, inplace=True)', try using 'df.method({col: value}, inplace=True)' or df[col] = df[col].method(value) instead, to perform the operation inplace on the original object.\n",
            "\n",
            "\n",
            "  day_df.month.replace((1,2,3,4,5,6,7,8,9,10,11,12),('Jan','Feb','Mar','Apr','May','Jun','Jul','Aug','Sep','Oct','Nov','Dec'), inplace=True)\n",
            "/var/folders/pv/hl8lt53s3212m50jmr0nb5q00000gp/T/ipykernel_12483/2322818834.py:10: FutureWarning: The behavior of Series.replace (and DataFrame.replace) with CategoricalDtype is deprecated. In a future version, replace will only be used for cases that preserve the categories. To change the categories, use ser.cat.rename_categories instead.\n",
            "  day_df.month.replace((1,2,3,4,5,6,7,8,9,10,11,12),('Jan','Feb','Mar','Apr','May','Jun','Jul','Aug','Sep','Oct','Nov','Dec'), inplace=True)\n",
            "/var/folders/pv/hl8lt53s3212m50jmr0nb5q00000gp/T/ipykernel_12483/2322818834.py:11: FutureWarning: A value is trying to be set on a copy of a DataFrame or Series through chained assignment using an inplace method.\n",
            "The behavior will change in pandas 3.0. This inplace method will never work because the intermediate object on which we are setting values always behaves as a copy.\n",
            "\n",
            "For example, when doing 'df[col].method(value, inplace=True)', try using 'df.method({col: value}, inplace=True)' or df[col] = df[col].method(value) instead, to perform the operation inplace on the original object.\n",
            "\n",
            "\n",
            "  hour_df.month.replace((1,2,3,4,5,6,7,8,9,10,11,12),('Jan','Feb','Mar','Apr','May','Jun','Jul','Aug','Sep','Oct','Nov','Dec'), inplace=True)\n",
            "/var/folders/pv/hl8lt53s3212m50jmr0nb5q00000gp/T/ipykernel_12483/2322818834.py:11: FutureWarning: The behavior of Series.replace (and DataFrame.replace) with CategoricalDtype is deprecated. In a future version, replace will only be used for cases that preserve the categories. To change the categories, use ser.cat.rename_categories instead.\n",
            "  hour_df.month.replace((1,2,3,4,5,6,7,8,9,10,11,12),('Jan','Feb','Mar','Apr','May','Jun','Jul','Aug','Sep','Oct','Nov','Dec'), inplace=True)\n",
            "/var/folders/pv/hl8lt53s3212m50jmr0nb5q00000gp/T/ipykernel_12483/2322818834.py:14: FutureWarning: A value is trying to be set on a copy of a DataFrame or Series through chained assignment using an inplace method.\n",
            "The behavior will change in pandas 3.0. This inplace method will never work because the intermediate object on which we are setting values always behaves as a copy.\n",
            "\n",
            "For example, when doing 'df[col].method(value, inplace=True)', try using 'df.method({col: value}, inplace=True)' or df[col] = df[col].method(value) instead, to perform the operation inplace on the original object.\n",
            "\n",
            "\n",
            "  day_df.holiday.replace((1,0),('Yes','No'), inplace=True)\n",
            "/var/folders/pv/hl8lt53s3212m50jmr0nb5q00000gp/T/ipykernel_12483/2322818834.py:14: FutureWarning: The behavior of Series.replace (and DataFrame.replace) with CategoricalDtype is deprecated. In a future version, replace will only be used for cases that preserve the categories. To change the categories, use ser.cat.rename_categories instead.\n",
            "  day_df.holiday.replace((1,0),('Yes','No'), inplace=True)\n",
            "/var/folders/pv/hl8lt53s3212m50jmr0nb5q00000gp/T/ipykernel_12483/2322818834.py:15: FutureWarning: A value is trying to be set on a copy of a DataFrame or Series through chained assignment using an inplace method.\n",
            "The behavior will change in pandas 3.0. This inplace method will never work because the intermediate object on which we are setting values always behaves as a copy.\n",
            "\n",
            "For example, when doing 'df[col].method(value, inplace=True)', try using 'df.method({col: value}, inplace=True)' or df[col] = df[col].method(value) instead, to perform the operation inplace on the original object.\n",
            "\n",
            "\n",
            "  hour_df.holiday.replace((1,0),('Yes','No'), inplace=True)\n",
            "/var/folders/pv/hl8lt53s3212m50jmr0nb5q00000gp/T/ipykernel_12483/2322818834.py:15: FutureWarning: The behavior of Series.replace (and DataFrame.replace) with CategoricalDtype is deprecated. In a future version, replace will only be used for cases that preserve the categories. To change the categories, use ser.cat.rename_categories instead.\n",
            "  hour_df.holiday.replace((1,0),('Yes','No'), inplace=True)\n",
            "/var/folders/pv/hl8lt53s3212m50jmr0nb5q00000gp/T/ipykernel_12483/2322818834.py:18: FutureWarning: A value is trying to be set on a copy of a DataFrame or Series through chained assignment using an inplace method.\n",
            "The behavior will change in pandas 3.0. This inplace method will never work because the intermediate object on which we are setting values always behaves as a copy.\n",
            "\n",
            "For example, when doing 'df[col].method(value, inplace=True)', try using 'df.method({col: value}, inplace=True)' or df[col] = df[col].method(value) instead, to perform the operation inplace on the original object.\n",
            "\n",
            "\n",
            "  day_df.day_of_week.replace((0,1,2,3,4,5,6), ('Sunday','Monday','Tuesday','Wednesday','Thursday','Friday','Saturday'), inplace=True)\n",
            "/var/folders/pv/hl8lt53s3212m50jmr0nb5q00000gp/T/ipykernel_12483/2322818834.py:18: FutureWarning: The behavior of Series.replace (and DataFrame.replace) with CategoricalDtype is deprecated. In a future version, replace will only be used for cases that preserve the categories. To change the categories, use ser.cat.rename_categories instead.\n",
            "  day_df.day_of_week.replace((0,1,2,3,4,5,6), ('Sunday','Monday','Tuesday','Wednesday','Thursday','Friday','Saturday'), inplace=True)\n",
            "/var/folders/pv/hl8lt53s3212m50jmr0nb5q00000gp/T/ipykernel_12483/2322818834.py:19: FutureWarning: A value is trying to be set on a copy of a DataFrame or Series through chained assignment using an inplace method.\n",
            "The behavior will change in pandas 3.0. This inplace method will never work because the intermediate object on which we are setting values always behaves as a copy.\n",
            "\n",
            "For example, when doing 'df[col].method(value, inplace=True)', try using 'df.method({col: value}, inplace=True)' or df[col] = df[col].method(value) instead, to perform the operation inplace on the original object.\n",
            "\n",
            "\n",
            "  hour_df.day_of_week.replace((0,1,2,3,4,5,6), ('Sunday','Monday','Tuesday','Wednesday','Thursday','Friday','Saturday'), inplace=True)\n",
            "/var/folders/pv/hl8lt53s3212m50jmr0nb5q00000gp/T/ipykernel_12483/2322818834.py:19: FutureWarning: The behavior of Series.replace (and DataFrame.replace) with CategoricalDtype is deprecated. In a future version, replace will only be used for cases that preserve the categories. To change the categories, use ser.cat.rename_categories instead.\n",
            "  hour_df.day_of_week.replace((0,1,2,3,4,5,6), ('Sunday','Monday','Tuesday','Wednesday','Thursday','Friday','Saturday'), inplace=True)\n",
            "/var/folders/pv/hl8lt53s3212m50jmr0nb5q00000gp/T/ipykernel_12483/2322818834.py:22: FutureWarning: A value is trying to be set on a copy of a DataFrame or Series through chained assignment using an inplace method.\n",
            "The behavior will change in pandas 3.0. This inplace method will never work because the intermediate object on which we are setting values always behaves as a copy.\n",
            "\n",
            "For example, when doing 'df[col].method(value, inplace=True)', try using 'df.method({col: value}, inplace=True)' or df[col] = df[col].method(value) instead, to perform the operation inplace on the original object.\n",
            "\n",
            "\n",
            "  day_df.workingday.replace((1,0),('Yes','No'), inplace=True)\n",
            "/var/folders/pv/hl8lt53s3212m50jmr0nb5q00000gp/T/ipykernel_12483/2322818834.py:22: FutureWarning: The behavior of Series.replace (and DataFrame.replace) with CategoricalDtype is deprecated. In a future version, replace will only be used for cases that preserve the categories. To change the categories, use ser.cat.rename_categories instead.\n",
            "  day_df.workingday.replace((1,0),('Yes','No'), inplace=True)\n",
            "/var/folders/pv/hl8lt53s3212m50jmr0nb5q00000gp/T/ipykernel_12483/2322818834.py:23: FutureWarning: A value is trying to be set on a copy of a DataFrame or Series through chained assignment using an inplace method.\n",
            "The behavior will change in pandas 3.0. This inplace method will never work because the intermediate object on which we are setting values always behaves as a copy.\n",
            "\n",
            "For example, when doing 'df[col].method(value, inplace=True)', try using 'df.method({col: value}, inplace=True)' or df[col] = df[col].method(value) instead, to perform the operation inplace on the original object.\n",
            "\n",
            "\n",
            "  hour_df.workingday.replace((1,0),('Yes','No'), inplace=True)\n",
            "/var/folders/pv/hl8lt53s3212m50jmr0nb5q00000gp/T/ipykernel_12483/2322818834.py:23: FutureWarning: The behavior of Series.replace (and DataFrame.replace) with CategoricalDtype is deprecated. In a future version, replace will only be used for cases that preserve the categories. To change the categories, use ser.cat.rename_categories instead.\n",
            "  hour_df.workingday.replace((1,0),('Yes','No'), inplace=True)\n",
            "/var/folders/pv/hl8lt53s3212m50jmr0nb5q00000gp/T/ipykernel_12483/2322818834.py:26: FutureWarning: A value is trying to be set on a copy of a DataFrame or Series through chained assignment using an inplace method.\n",
            "The behavior will change in pandas 3.0. This inplace method will never work because the intermediate object on which we are setting values always behaves as a copy.\n",
            "\n",
            "For example, when doing 'df[col].method(value, inplace=True)', try using 'df.method({col: value}, inplace=True)' or df[col] = df[col].method(value) instead, to perform the operation inplace on the original object.\n",
            "\n",
            "\n",
            "  day_df.weather_situation.replace((1,2,3,4), ('Clear','Misty','Light_rain_or_snow','Heavy_rain_or_snow'), inplace=True)\n",
            "/var/folders/pv/hl8lt53s3212m50jmr0nb5q00000gp/T/ipykernel_12483/2322818834.py:26: FutureWarning: The behavior of Series.replace (and DataFrame.replace) with CategoricalDtype is deprecated. In a future version, replace will only be used for cases that preserve the categories. To change the categories, use ser.cat.rename_categories instead.\n",
            "  day_df.weather_situation.replace((1,2,3,4), ('Clear','Misty','Light_rain_or_snow','Heavy_rain_or_snow'), inplace=True)\n",
            "/var/folders/pv/hl8lt53s3212m50jmr0nb5q00000gp/T/ipykernel_12483/2322818834.py:27: FutureWarning: A value is trying to be set on a copy of a DataFrame or Series through chained assignment using an inplace method.\n",
            "The behavior will change in pandas 3.0. This inplace method will never work because the intermediate object on which we are setting values always behaves as a copy.\n",
            "\n",
            "For example, when doing 'df[col].method(value, inplace=True)', try using 'df.method({col: value}, inplace=True)' or df[col] = df[col].method(value) instead, to perform the operation inplace on the original object.\n",
            "\n",
            "\n",
            "  hour_df.weather_situation.replace((1,2,3,4), ('Clear','Misty','Light_rain_or_snow','Heavy_rain_or_snow'), inplace=True)\n",
            "/var/folders/pv/hl8lt53s3212m50jmr0nb5q00000gp/T/ipykernel_12483/2322818834.py:27: FutureWarning: The behavior of Series.replace (and DataFrame.replace) with CategoricalDtype is deprecated. In a future version, replace will only be used for cases that preserve the categories. To change the categories, use ser.cat.rename_categories instead.\n",
            "  hour_df.weather_situation.replace((1,2,3,4), ('Clear','Misty','Light_rain_or_snow','Heavy_rain_or_snow'), inplace=True)\n"
          ]
        }
      ],
      "source": [
        "# mengubah season menjadi: 1:Spring, 2:Summer, 3:Fall, 4:Winter\n",
        "day_df.season.replace((1,2,3,4), ('Spring','Summer','Fall','Winter'), inplace=True)\n",
        "hour_df.season.replace((1,2,3,4), ('Spring','Summer','Fall','Winter'), inplace=True)\n",
        "\n",
        "# mengubah year menjadi category: 0:2011, 1:2012\n",
        "day_df.year.replace((0,1), ('2011','2012'), inplace=True)\n",
        "hour_df.year.replace((0,1), ('2011','2012'), inplace=True)\n",
        "\n",
        "# mengubah month menjadi category: 1:Jan, 2:Feb, 3:Mar, 4:Apr, 5:May, 6:Jun, 7:Jul, 8:Aug, 9:Sep, 10:Oct, 11:Nov, 12:Dec\n",
        "day_df.month.replace((1,2,3,4,5,6,7,8,9,10,11,12),('Jan','Feb','Mar','Apr','May','Jun','Jul','Aug','Sep','Oct','Nov','Dec'), inplace=True)\n",
        "hour_df.month.replace((1,2,3,4,5,6,7,8,9,10,11,12),('Jan','Feb','Mar','Apr','May','Jun','Jul','Aug','Sep','Oct','Nov','Dec'), inplace=True)\n",
        "\n",
        "# mengubah holiday menjadi category: 1:Yes, 0:No\n",
        "day_df.holiday.replace((1,0),('Yes','No'), inplace=True)\n",
        "hour_df.holiday.replace((1,0),('Yes','No'), inplace=True)\n",
        "\n",
        "# mengubah day_of_week menjadi category: 0:Sun, 1:Mon, 2:Tue, 3:Wed, 4:Thu, 5:Fri, 6:Sat\n",
        "day_df.day_of_week.replace((0,1,2,3,4,5,6), ('Sunday','Monday','Tuesday','Wednesday','Thursday','Friday','Saturday'), inplace=True)\n",
        "hour_df.day_of_week.replace((0,1,2,3,4,5,6), ('Sunday','Monday','Tuesday','Wednesday','Thursday','Friday','Saturday'), inplace=True)\n",
        "\n",
        "# mengubah workingday menjadi category: 1:Yes, 0:No\n",
        "day_df.workingday.replace((1,0),('Yes','No'), inplace=True)\n",
        "hour_df.workingday.replace((1,0),('Yes','No'), inplace=True)\n",
        "\n",
        "# mengubah weather_situation menjadi angka category: 1:Clear, 2:Misty, 3:Light_Rain_or_Snow 4:Heavy_Rain_or_Snow\n",
        "day_df.weather_situation.replace((1,2,3,4), ('Clear','Misty','Light_rain_or_snow','Heavy_rain_or_snow'), inplace=True)\n",
        "hour_df.weather_situation.replace((1,2,3,4), ('Clear','Misty','Light_rain_or_snow','Heavy_rain_or_snow'), inplace=True)\n",
        "\n",
        "# menghitung humidity agar lebih mudah dipahami dan dianalisis\n",
        "day_df['humidity'] = day_df['humidity']*100\n",
        "hour_df['humidity'] = hour_df['humidity']*100\n",
        "\n",
        "# menghitung temp agar lebih mudah dipahami dan dianalisis\n",
        "day_df[\"temp\"] = day_df[\"temp\"] * 41\n",
        "hour_df[\"temp\"] = hour_df[\"temp\"] * 41\n",
        "\n",
        "# menghitung atemp agar lebih mudah dipahami dan dianalisis\n",
        "day_df[\"atemp\"] = day_df[\"atemp\"] * 50\n",
        "hour_df[\"atemp\"] = hour_df[\"atemp\"] * 50\n",
        "\n",
        "# menghitung wind_speed agar lebih mudah dipahami dan dianalisis\n",
        "day_df[\"wind_speed\"] = day_df[\"wind_speed\"] * 67\n",
        "hour_df[\"wind_speed\"] = hour_df[\"wind_speed\"] * 67"
      ]
    },
    {
      "cell_type": "code",
      "execution_count": 50,
      "metadata": {
        "colab": {
          "base_uri": "https://localhost:8080/",
          "height": 206
        },
        "id": "jv4J87DQhaIb",
        "outputId": "b1f9dfac-8b09-4102-eb55-ea3b1443191e"
      },
      "outputs": [
        {
          "data": {
            "text/html": [
              "<div>\n",
              "<style scoped>\n",
              "    .dataframe tbody tr th:only-of-type {\n",
              "        vertical-align: middle;\n",
              "    }\n",
              "\n",
              "    .dataframe tbody tr th {\n",
              "        vertical-align: top;\n",
              "    }\n",
              "\n",
              "    .dataframe thead th {\n",
              "        text-align: right;\n",
              "    }\n",
              "</style>\n",
              "<table border=\"1\" class=\"dataframe\">\n",
              "  <thead>\n",
              "    <tr style=\"text-align: right;\">\n",
              "      <th></th>\n",
              "      <th>instant</th>\n",
              "      <th>date</th>\n",
              "      <th>season</th>\n",
              "      <th>year</th>\n",
              "      <th>month</th>\n",
              "      <th>holiday</th>\n",
              "      <th>day_of_week</th>\n",
              "      <th>workingday</th>\n",
              "      <th>weather_situation</th>\n",
              "      <th>temp</th>\n",
              "      <th>atemp</th>\n",
              "      <th>humidity</th>\n",
              "      <th>wind_speed</th>\n",
              "      <th>casual</th>\n",
              "      <th>registered</th>\n",
              "      <th>count</th>\n",
              "    </tr>\n",
              "  </thead>\n",
              "  <tbody>\n",
              "    <tr>\n",
              "      <th>0</th>\n",
              "      <td>1</td>\n",
              "      <td>2011-01-01</td>\n",
              "      <td>Spring</td>\n",
              "      <td>2011</td>\n",
              "      <td>Jan</td>\n",
              "      <td>No</td>\n",
              "      <td>Saturday</td>\n",
              "      <td>No</td>\n",
              "      <td>Misty</td>\n",
              "      <td>14.110847</td>\n",
              "      <td>18.18125</td>\n",
              "      <td>80.5833</td>\n",
              "      <td>10.749882</td>\n",
              "      <td>331</td>\n",
              "      <td>654</td>\n",
              "      <td>985</td>\n",
              "    </tr>\n",
              "    <tr>\n",
              "      <th>1</th>\n",
              "      <td>2</td>\n",
              "      <td>2011-01-02</td>\n",
              "      <td>Spring</td>\n",
              "      <td>2011</td>\n",
              "      <td>Jan</td>\n",
              "      <td>No</td>\n",
              "      <td>Sunday</td>\n",
              "      <td>No</td>\n",
              "      <td>Misty</td>\n",
              "      <td>14.902598</td>\n",
              "      <td>17.68695</td>\n",
              "      <td>69.6087</td>\n",
              "      <td>16.652113</td>\n",
              "      <td>131</td>\n",
              "      <td>670</td>\n",
              "      <td>801</td>\n",
              "    </tr>\n",
              "    <tr>\n",
              "      <th>2</th>\n",
              "      <td>3</td>\n",
              "      <td>2011-01-03</td>\n",
              "      <td>Spring</td>\n",
              "      <td>2011</td>\n",
              "      <td>Jan</td>\n",
              "      <td>No</td>\n",
              "      <td>Monday</td>\n",
              "      <td>Yes</td>\n",
              "      <td>Clear</td>\n",
              "      <td>8.050924</td>\n",
              "      <td>9.47025</td>\n",
              "      <td>43.7273</td>\n",
              "      <td>16.636703</td>\n",
              "      <td>120</td>\n",
              "      <td>1229</td>\n",
              "      <td>1349</td>\n",
              "    </tr>\n",
              "    <tr>\n",
              "      <th>3</th>\n",
              "      <td>4</td>\n",
              "      <td>2011-01-04</td>\n",
              "      <td>Spring</td>\n",
              "      <td>2011</td>\n",
              "      <td>Jan</td>\n",
              "      <td>No</td>\n",
              "      <td>Tuesday</td>\n",
              "      <td>Yes</td>\n",
              "      <td>Clear</td>\n",
              "      <td>8.200000</td>\n",
              "      <td>10.60610</td>\n",
              "      <td>59.0435</td>\n",
              "      <td>10.739832</td>\n",
              "      <td>108</td>\n",
              "      <td>1454</td>\n",
              "      <td>1562</td>\n",
              "    </tr>\n",
              "    <tr>\n",
              "      <th>4</th>\n",
              "      <td>5</td>\n",
              "      <td>2011-01-05</td>\n",
              "      <td>Spring</td>\n",
              "      <td>2011</td>\n",
              "      <td>Jan</td>\n",
              "      <td>No</td>\n",
              "      <td>Wednesday</td>\n",
              "      <td>Yes</td>\n",
              "      <td>Clear</td>\n",
              "      <td>9.305237</td>\n",
              "      <td>11.46350</td>\n",
              "      <td>43.6957</td>\n",
              "      <td>12.522300</td>\n",
              "      <td>82</td>\n",
              "      <td>1518</td>\n",
              "      <td>1600</td>\n",
              "    </tr>\n",
              "  </tbody>\n",
              "</table>\n",
              "</div>"
            ],
            "text/plain": [
              "   instant       date  season  year month holiday day_of_week workingday  \\\n",
              "0        1 2011-01-01  Spring  2011   Jan      No    Saturday         No   \n",
              "1        2 2011-01-02  Spring  2011   Jan      No      Sunday         No   \n",
              "2        3 2011-01-03  Spring  2011   Jan      No      Monday        Yes   \n",
              "3        4 2011-01-04  Spring  2011   Jan      No     Tuesday        Yes   \n",
              "4        5 2011-01-05  Spring  2011   Jan      No   Wednesday        Yes   \n",
              "\n",
              "  weather_situation       temp     atemp  humidity  wind_speed  casual  \\\n",
              "0             Misty  14.110847  18.18125   80.5833   10.749882     331   \n",
              "1             Misty  14.902598  17.68695   69.6087   16.652113     131   \n",
              "2             Clear   8.050924   9.47025   43.7273   16.636703     120   \n",
              "3             Clear   8.200000  10.60610   59.0435   10.739832     108   \n",
              "4             Clear   9.305237  11.46350   43.6957   12.522300      82   \n",
              "\n",
              "   registered  count  \n",
              "0         654    985  \n",
              "1         670    801  \n",
              "2        1229   1349  \n",
              "3        1454   1562  \n",
              "4        1518   1600  "
            ]
          },
          "execution_count": 50,
          "metadata": {},
          "output_type": "execute_result"
        }
      ],
      "source": [
        "day_df.head()"
      ]
    },
    {
      "cell_type": "code",
      "execution_count": 51,
      "metadata": {
        "colab": {
          "base_uri": "https://localhost:8080/",
          "height": 206
        },
        "id": "zaVQoHKFhiaI",
        "outputId": "6908f99a-6c2a-40cf-c704-904a94678a33"
      },
      "outputs": [
        {
          "data": {
            "text/html": [
              "<div>\n",
              "<style scoped>\n",
              "    .dataframe tbody tr th:only-of-type {\n",
              "        vertical-align: middle;\n",
              "    }\n",
              "\n",
              "    .dataframe tbody tr th {\n",
              "        vertical-align: top;\n",
              "    }\n",
              "\n",
              "    .dataframe thead th {\n",
              "        text-align: right;\n",
              "    }\n",
              "</style>\n",
              "<table border=\"1\" class=\"dataframe\">\n",
              "  <thead>\n",
              "    <tr style=\"text-align: right;\">\n",
              "      <th></th>\n",
              "      <th>instant</th>\n",
              "      <th>date</th>\n",
              "      <th>season</th>\n",
              "      <th>year</th>\n",
              "      <th>month</th>\n",
              "      <th>hours</th>\n",
              "      <th>holiday</th>\n",
              "      <th>day_of_week</th>\n",
              "      <th>workingday</th>\n",
              "      <th>weather_situation</th>\n",
              "      <th>temp</th>\n",
              "      <th>atemp</th>\n",
              "      <th>humidity</th>\n",
              "      <th>wind_speed</th>\n",
              "      <th>casual</th>\n",
              "      <th>registered</th>\n",
              "      <th>count</th>\n",
              "    </tr>\n",
              "  </thead>\n",
              "  <tbody>\n",
              "    <tr>\n",
              "      <th>0</th>\n",
              "      <td>1</td>\n",
              "      <td>2011-01-01</td>\n",
              "      <td>Spring</td>\n",
              "      <td>2011</td>\n",
              "      <td>Jan</td>\n",
              "      <td>0</td>\n",
              "      <td>No</td>\n",
              "      <td>Saturday</td>\n",
              "      <td>No</td>\n",
              "      <td>Clear</td>\n",
              "      <td>9.84</td>\n",
              "      <td>14.395</td>\n",
              "      <td>81.0</td>\n",
              "      <td>0.0</td>\n",
              "      <td>3</td>\n",
              "      <td>13</td>\n",
              "      <td>16</td>\n",
              "    </tr>\n",
              "    <tr>\n",
              "      <th>1</th>\n",
              "      <td>2</td>\n",
              "      <td>2011-01-01</td>\n",
              "      <td>Spring</td>\n",
              "      <td>2011</td>\n",
              "      <td>Jan</td>\n",
              "      <td>1</td>\n",
              "      <td>No</td>\n",
              "      <td>Saturday</td>\n",
              "      <td>No</td>\n",
              "      <td>Clear</td>\n",
              "      <td>9.02</td>\n",
              "      <td>13.635</td>\n",
              "      <td>80.0</td>\n",
              "      <td>0.0</td>\n",
              "      <td>8</td>\n",
              "      <td>32</td>\n",
              "      <td>40</td>\n",
              "    </tr>\n",
              "    <tr>\n",
              "      <th>2</th>\n",
              "      <td>3</td>\n",
              "      <td>2011-01-01</td>\n",
              "      <td>Spring</td>\n",
              "      <td>2011</td>\n",
              "      <td>Jan</td>\n",
              "      <td>2</td>\n",
              "      <td>No</td>\n",
              "      <td>Saturday</td>\n",
              "      <td>No</td>\n",
              "      <td>Clear</td>\n",
              "      <td>9.02</td>\n",
              "      <td>13.635</td>\n",
              "      <td>80.0</td>\n",
              "      <td>0.0</td>\n",
              "      <td>5</td>\n",
              "      <td>27</td>\n",
              "      <td>32</td>\n",
              "    </tr>\n",
              "    <tr>\n",
              "      <th>3</th>\n",
              "      <td>4</td>\n",
              "      <td>2011-01-01</td>\n",
              "      <td>Spring</td>\n",
              "      <td>2011</td>\n",
              "      <td>Jan</td>\n",
              "      <td>3</td>\n",
              "      <td>No</td>\n",
              "      <td>Saturday</td>\n",
              "      <td>No</td>\n",
              "      <td>Clear</td>\n",
              "      <td>9.84</td>\n",
              "      <td>14.395</td>\n",
              "      <td>75.0</td>\n",
              "      <td>0.0</td>\n",
              "      <td>3</td>\n",
              "      <td>10</td>\n",
              "      <td>13</td>\n",
              "    </tr>\n",
              "    <tr>\n",
              "      <th>4</th>\n",
              "      <td>5</td>\n",
              "      <td>2011-01-01</td>\n",
              "      <td>Spring</td>\n",
              "      <td>2011</td>\n",
              "      <td>Jan</td>\n",
              "      <td>4</td>\n",
              "      <td>No</td>\n",
              "      <td>Saturday</td>\n",
              "      <td>No</td>\n",
              "      <td>Clear</td>\n",
              "      <td>9.84</td>\n",
              "      <td>14.395</td>\n",
              "      <td>75.0</td>\n",
              "      <td>0.0</td>\n",
              "      <td>0</td>\n",
              "      <td>1</td>\n",
              "      <td>1</td>\n",
              "    </tr>\n",
              "  </tbody>\n",
              "</table>\n",
              "</div>"
            ],
            "text/plain": [
              "   instant       date  season  year month  hours holiday day_of_week  \\\n",
              "0        1 2011-01-01  Spring  2011   Jan      0      No    Saturday   \n",
              "1        2 2011-01-01  Spring  2011   Jan      1      No    Saturday   \n",
              "2        3 2011-01-01  Spring  2011   Jan      2      No    Saturday   \n",
              "3        4 2011-01-01  Spring  2011   Jan      3      No    Saturday   \n",
              "4        5 2011-01-01  Spring  2011   Jan      4      No    Saturday   \n",
              "\n",
              "  workingday weather_situation  temp   atemp  humidity  wind_speed  casual  \\\n",
              "0         No             Clear  9.84  14.395      81.0         0.0       3   \n",
              "1         No             Clear  9.02  13.635      80.0         0.0       8   \n",
              "2         No             Clear  9.02  13.635      80.0         0.0       5   \n",
              "3         No             Clear  9.84  14.395      75.0         0.0       3   \n",
              "4         No             Clear  9.84  14.395      75.0         0.0       0   \n",
              "\n",
              "   registered  count  \n",
              "0          13     16  \n",
              "1          32     40  \n",
              "2          27     32  \n",
              "3          10     13  \n",
              "4           1      1  "
            ]
          },
          "execution_count": 51,
          "metadata": {},
          "output_type": "execute_result"
        }
      ],
      "source": [
        "hour_df.head()"
      ]
    },
    {
      "cell_type": "markdown",
      "metadata": {
        "id": "-cI0S-_GKh31"
      },
      "source": [
        "**Insight:**\n",
        "- Menghapus kolom yang sekiranya tidak akan dibutuhkan agar mudah mengelolanya\n",
        "- Mengubah tipe data menjadi lebih sesuai agar mudah diolah\n",
        "- Mengubah nama kolom agar lebih mudah dibaca\n",
        "- Mengubah isi kolom agar nilainya mudah dipahami dan dibaca"
      ]
    },
    {
      "cell_type": "markdown",
      "metadata": {
        "id": "gp-Y6wU38DC1"
      },
      "source": [
        "## Exploratory Data Analysis (EDA)"
      ]
    },
    {
      "cell_type": "markdown",
      "metadata": {
        "id": "MW7WF2kr8DC1"
      },
      "source": [
        "### Explore Tabel `day_df` dan `hour_df`"
      ]
    },
    {
      "cell_type": "code",
      "execution_count": 52,
      "metadata": {
        "colab": {
          "base_uri": "https://localhost:8080/",
          "height": 394
        },
        "id": "e9CQCZjk8DC2",
        "outputId": "03a7a42c-dc9b-45e8-b402-0887d8351639"
      },
      "outputs": [
        {
          "data": {
            "text/html": [
              "<div>\n",
              "<style scoped>\n",
              "    .dataframe tbody tr th:only-of-type {\n",
              "        vertical-align: middle;\n",
              "    }\n",
              "\n",
              "    .dataframe tbody tr th {\n",
              "        vertical-align: top;\n",
              "    }\n",
              "\n",
              "    .dataframe thead th {\n",
              "        text-align: right;\n",
              "    }\n",
              "</style>\n",
              "<table border=\"1\" class=\"dataframe\">\n",
              "  <thead>\n",
              "    <tr style=\"text-align: right;\">\n",
              "      <th></th>\n",
              "      <th>instant</th>\n",
              "      <th>date</th>\n",
              "      <th>season</th>\n",
              "      <th>year</th>\n",
              "      <th>month</th>\n",
              "      <th>holiday</th>\n",
              "      <th>day_of_week</th>\n",
              "      <th>workingday</th>\n",
              "      <th>weather_situation</th>\n",
              "      <th>temp</th>\n",
              "      <th>atemp</th>\n",
              "      <th>humidity</th>\n",
              "      <th>wind_speed</th>\n",
              "      <th>casual</th>\n",
              "      <th>registered</th>\n",
              "      <th>count</th>\n",
              "    </tr>\n",
              "  </thead>\n",
              "  <tbody>\n",
              "    <tr>\n",
              "      <th>count</th>\n",
              "      <td>731.000000</td>\n",
              "      <td>731</td>\n",
              "      <td>731</td>\n",
              "      <td>731</td>\n",
              "      <td>731</td>\n",
              "      <td>731</td>\n",
              "      <td>731</td>\n",
              "      <td>731</td>\n",
              "      <td>731</td>\n",
              "      <td>731.000000</td>\n",
              "      <td>731.000000</td>\n",
              "      <td>731.000000</td>\n",
              "      <td>731.000000</td>\n",
              "      <td>731.000000</td>\n",
              "      <td>731.000000</td>\n",
              "      <td>731.000000</td>\n",
              "    </tr>\n",
              "    <tr>\n",
              "      <th>unique</th>\n",
              "      <td>NaN</td>\n",
              "      <td>NaN</td>\n",
              "      <td>4</td>\n",
              "      <td>2</td>\n",
              "      <td>12</td>\n",
              "      <td>2</td>\n",
              "      <td>7</td>\n",
              "      <td>2</td>\n",
              "      <td>3</td>\n",
              "      <td>NaN</td>\n",
              "      <td>NaN</td>\n",
              "      <td>NaN</td>\n",
              "      <td>NaN</td>\n",
              "      <td>NaN</td>\n",
              "      <td>NaN</td>\n",
              "      <td>NaN</td>\n",
              "    </tr>\n",
              "    <tr>\n",
              "      <th>top</th>\n",
              "      <td>NaN</td>\n",
              "      <td>NaN</td>\n",
              "      <td>Fall</td>\n",
              "      <td>2012</td>\n",
              "      <td>Jan</td>\n",
              "      <td>No</td>\n",
              "      <td>Sunday</td>\n",
              "      <td>Yes</td>\n",
              "      <td>Clear</td>\n",
              "      <td>NaN</td>\n",
              "      <td>NaN</td>\n",
              "      <td>NaN</td>\n",
              "      <td>NaN</td>\n",
              "      <td>NaN</td>\n",
              "      <td>NaN</td>\n",
              "      <td>NaN</td>\n",
              "    </tr>\n",
              "    <tr>\n",
              "      <th>freq</th>\n",
              "      <td>NaN</td>\n",
              "      <td>NaN</td>\n",
              "      <td>188</td>\n",
              "      <td>366</td>\n",
              "      <td>62</td>\n",
              "      <td>710</td>\n",
              "      <td>105</td>\n",
              "      <td>500</td>\n",
              "      <td>463</td>\n",
              "      <td>NaN</td>\n",
              "      <td>NaN</td>\n",
              "      <td>NaN</td>\n",
              "      <td>NaN</td>\n",
              "      <td>NaN</td>\n",
              "      <td>NaN</td>\n",
              "      <td>NaN</td>\n",
              "    </tr>\n",
              "    <tr>\n",
              "      <th>mean</th>\n",
              "      <td>366.000000</td>\n",
              "      <td>2012-01-01 00:00:00</td>\n",
              "      <td>NaN</td>\n",
              "      <td>NaN</td>\n",
              "      <td>NaN</td>\n",
              "      <td>NaN</td>\n",
              "      <td>NaN</td>\n",
              "      <td>NaN</td>\n",
              "      <td>NaN</td>\n",
              "      <td>20.310776</td>\n",
              "      <td>23.717699</td>\n",
              "      <td>62.789406</td>\n",
              "      <td>12.762576</td>\n",
              "      <td>848.176471</td>\n",
              "      <td>3656.172367</td>\n",
              "      <td>4504.348837</td>\n",
              "    </tr>\n",
              "    <tr>\n",
              "      <th>min</th>\n",
              "      <td>1.000000</td>\n",
              "      <td>2011-01-01 00:00:00</td>\n",
              "      <td>NaN</td>\n",
              "      <td>NaN</td>\n",
              "      <td>NaN</td>\n",
              "      <td>NaN</td>\n",
              "      <td>NaN</td>\n",
              "      <td>NaN</td>\n",
              "      <td>NaN</td>\n",
              "      <td>2.424346</td>\n",
              "      <td>3.953480</td>\n",
              "      <td>0.000000</td>\n",
              "      <td>1.500244</td>\n",
              "      <td>2.000000</td>\n",
              "      <td>20.000000</td>\n",
              "      <td>22.000000</td>\n",
              "    </tr>\n",
              "    <tr>\n",
              "      <th>25%</th>\n",
              "      <td>183.500000</td>\n",
              "      <td>2011-07-02 12:00:00</td>\n",
              "      <td>NaN</td>\n",
              "      <td>NaN</td>\n",
              "      <td>NaN</td>\n",
              "      <td>NaN</td>\n",
              "      <td>NaN</td>\n",
              "      <td>NaN</td>\n",
              "      <td>NaN</td>\n",
              "      <td>13.820424</td>\n",
              "      <td>16.892125</td>\n",
              "      <td>52.000000</td>\n",
              "      <td>9.041650</td>\n",
              "      <td>315.500000</td>\n",
              "      <td>2497.000000</td>\n",
              "      <td>3152.000000</td>\n",
              "    </tr>\n",
              "    <tr>\n",
              "      <th>50%</th>\n",
              "      <td>366.000000</td>\n",
              "      <td>2012-01-01 00:00:00</td>\n",
              "      <td>NaN</td>\n",
              "      <td>NaN</td>\n",
              "      <td>NaN</td>\n",
              "      <td>NaN</td>\n",
              "      <td>NaN</td>\n",
              "      <td>NaN</td>\n",
              "      <td>NaN</td>\n",
              "      <td>20.431653</td>\n",
              "      <td>24.336650</td>\n",
              "      <td>62.666700</td>\n",
              "      <td>12.125325</td>\n",
              "      <td>713.000000</td>\n",
              "      <td>3662.000000</td>\n",
              "      <td>4548.000000</td>\n",
              "    </tr>\n",
              "    <tr>\n",
              "      <th>75%</th>\n",
              "      <td>548.500000</td>\n",
              "      <td>2012-07-01 12:00:00</td>\n",
              "      <td>NaN</td>\n",
              "      <td>NaN</td>\n",
              "      <td>NaN</td>\n",
              "      <td>NaN</td>\n",
              "      <td>NaN</td>\n",
              "      <td>NaN</td>\n",
              "      <td>NaN</td>\n",
              "      <td>26.872076</td>\n",
              "      <td>30.430100</td>\n",
              "      <td>73.020850</td>\n",
              "      <td>15.625371</td>\n",
              "      <td>1096.000000</td>\n",
              "      <td>4776.500000</td>\n",
              "      <td>5956.000000</td>\n",
              "    </tr>\n",
              "    <tr>\n",
              "      <th>max</th>\n",
              "      <td>731.000000</td>\n",
              "      <td>2012-12-31 00:00:00</td>\n",
              "      <td>NaN</td>\n",
              "      <td>NaN</td>\n",
              "      <td>NaN</td>\n",
              "      <td>NaN</td>\n",
              "      <td>NaN</td>\n",
              "      <td>NaN</td>\n",
              "      <td>NaN</td>\n",
              "      <td>35.328347</td>\n",
              "      <td>42.044800</td>\n",
              "      <td>97.250000</td>\n",
              "      <td>34.000021</td>\n",
              "      <td>3410.000000</td>\n",
              "      <td>6946.000000</td>\n",
              "      <td>8714.000000</td>\n",
              "    </tr>\n",
              "    <tr>\n",
              "      <th>std</th>\n",
              "      <td>211.165812</td>\n",
              "      <td>NaN</td>\n",
              "      <td>NaN</td>\n",
              "      <td>NaN</td>\n",
              "      <td>NaN</td>\n",
              "      <td>NaN</td>\n",
              "      <td>NaN</td>\n",
              "      <td>NaN</td>\n",
              "      <td>NaN</td>\n",
              "      <td>7.505091</td>\n",
              "      <td>8.148059</td>\n",
              "      <td>14.242910</td>\n",
              "      <td>5.192357</td>\n",
              "      <td>686.622488</td>\n",
              "      <td>1560.256377</td>\n",
              "      <td>1937.211452</td>\n",
              "    </tr>\n",
              "  </tbody>\n",
              "</table>\n",
              "</div>"
            ],
            "text/plain": [
              "           instant                 date season  year month holiday  \\\n",
              "count   731.000000                  731    731   731   731     731   \n",
              "unique         NaN                  NaN      4     2    12       2   \n",
              "top            NaN                  NaN   Fall  2012   Jan      No   \n",
              "freq           NaN                  NaN    188   366    62     710   \n",
              "mean    366.000000  2012-01-01 00:00:00    NaN   NaN   NaN     NaN   \n",
              "min       1.000000  2011-01-01 00:00:00    NaN   NaN   NaN     NaN   \n",
              "25%     183.500000  2011-07-02 12:00:00    NaN   NaN   NaN     NaN   \n",
              "50%     366.000000  2012-01-01 00:00:00    NaN   NaN   NaN     NaN   \n",
              "75%     548.500000  2012-07-01 12:00:00    NaN   NaN   NaN     NaN   \n",
              "max     731.000000  2012-12-31 00:00:00    NaN   NaN   NaN     NaN   \n",
              "std     211.165812                  NaN    NaN   NaN   NaN     NaN   \n",
              "\n",
              "       day_of_week workingday weather_situation        temp       atemp  \\\n",
              "count          731        731               731  731.000000  731.000000   \n",
              "unique           7          2                 3         NaN         NaN   \n",
              "top         Sunday        Yes             Clear         NaN         NaN   \n",
              "freq           105        500               463         NaN         NaN   \n",
              "mean           NaN        NaN               NaN   20.310776   23.717699   \n",
              "min            NaN        NaN               NaN    2.424346    3.953480   \n",
              "25%            NaN        NaN               NaN   13.820424   16.892125   \n",
              "50%            NaN        NaN               NaN   20.431653   24.336650   \n",
              "75%            NaN        NaN               NaN   26.872076   30.430100   \n",
              "max            NaN        NaN               NaN   35.328347   42.044800   \n",
              "std            NaN        NaN               NaN    7.505091    8.148059   \n",
              "\n",
              "          humidity  wind_speed       casual   registered        count  \n",
              "count   731.000000  731.000000   731.000000   731.000000   731.000000  \n",
              "unique         NaN         NaN          NaN          NaN          NaN  \n",
              "top            NaN         NaN          NaN          NaN          NaN  \n",
              "freq           NaN         NaN          NaN          NaN          NaN  \n",
              "mean     62.789406   12.762576   848.176471  3656.172367  4504.348837  \n",
              "min       0.000000    1.500244     2.000000    20.000000    22.000000  \n",
              "25%      52.000000    9.041650   315.500000  2497.000000  3152.000000  \n",
              "50%      62.666700   12.125325   713.000000  3662.000000  4548.000000  \n",
              "75%      73.020850   15.625371  1096.000000  4776.500000  5956.000000  \n",
              "max      97.250000   34.000021  3410.000000  6946.000000  8714.000000  \n",
              "std      14.242910    5.192357   686.622488  1560.256377  1937.211452  "
            ]
          },
          "execution_count": 52,
          "metadata": {},
          "output_type": "execute_result"
        }
      ],
      "source": [
        "day_df.describe(include=\"all\")"
      ]
    },
    {
      "cell_type": "code",
      "execution_count": 53,
      "metadata": {
        "colab": {
          "base_uri": "https://localhost:8080/",
          "height": 412
        },
        "id": "JZTBYA8LLN3I",
        "outputId": "50dcc1a0-a865-41ce-f47c-b197ea552a09"
      },
      "outputs": [
        {
          "data": {
            "text/html": [
              "<div>\n",
              "<style scoped>\n",
              "    .dataframe tbody tr th:only-of-type {\n",
              "        vertical-align: middle;\n",
              "    }\n",
              "\n",
              "    .dataframe tbody tr th {\n",
              "        vertical-align: top;\n",
              "    }\n",
              "\n",
              "    .dataframe thead th {\n",
              "        text-align: right;\n",
              "    }\n",
              "</style>\n",
              "<table border=\"1\" class=\"dataframe\">\n",
              "  <thead>\n",
              "    <tr style=\"text-align: right;\">\n",
              "      <th></th>\n",
              "      <th>instant</th>\n",
              "      <th>date</th>\n",
              "      <th>season</th>\n",
              "      <th>year</th>\n",
              "      <th>month</th>\n",
              "      <th>hours</th>\n",
              "      <th>holiday</th>\n",
              "      <th>day_of_week</th>\n",
              "      <th>workingday</th>\n",
              "      <th>weather_situation</th>\n",
              "      <th>temp</th>\n",
              "      <th>atemp</th>\n",
              "      <th>humidity</th>\n",
              "      <th>wind_speed</th>\n",
              "      <th>casual</th>\n",
              "      <th>registered</th>\n",
              "      <th>count</th>\n",
              "    </tr>\n",
              "  </thead>\n",
              "  <tbody>\n",
              "    <tr>\n",
              "      <th>count</th>\n",
              "      <td>17379.0000</td>\n",
              "      <td>17379</td>\n",
              "      <td>17379</td>\n",
              "      <td>17379</td>\n",
              "      <td>17379</td>\n",
              "      <td>17379.000000</td>\n",
              "      <td>17379</td>\n",
              "      <td>17379</td>\n",
              "      <td>17379</td>\n",
              "      <td>17379</td>\n",
              "      <td>17379.000000</td>\n",
              "      <td>17379.000000</td>\n",
              "      <td>17379.000000</td>\n",
              "      <td>17379.000000</td>\n",
              "      <td>17379.000000</td>\n",
              "      <td>17379.000000</td>\n",
              "      <td>17379.000000</td>\n",
              "    </tr>\n",
              "    <tr>\n",
              "      <th>unique</th>\n",
              "      <td>NaN</td>\n",
              "      <td>NaN</td>\n",
              "      <td>4</td>\n",
              "      <td>2</td>\n",
              "      <td>12</td>\n",
              "      <td>NaN</td>\n",
              "      <td>2</td>\n",
              "      <td>7</td>\n",
              "      <td>2</td>\n",
              "      <td>4</td>\n",
              "      <td>NaN</td>\n",
              "      <td>NaN</td>\n",
              "      <td>NaN</td>\n",
              "      <td>NaN</td>\n",
              "      <td>NaN</td>\n",
              "      <td>NaN</td>\n",
              "      <td>NaN</td>\n",
              "    </tr>\n",
              "    <tr>\n",
              "      <th>top</th>\n",
              "      <td>NaN</td>\n",
              "      <td>NaN</td>\n",
              "      <td>Fall</td>\n",
              "      <td>2012</td>\n",
              "      <td>May</td>\n",
              "      <td>NaN</td>\n",
              "      <td>No</td>\n",
              "      <td>Saturday</td>\n",
              "      <td>Yes</td>\n",
              "      <td>Clear</td>\n",
              "      <td>NaN</td>\n",
              "      <td>NaN</td>\n",
              "      <td>NaN</td>\n",
              "      <td>NaN</td>\n",
              "      <td>NaN</td>\n",
              "      <td>NaN</td>\n",
              "      <td>NaN</td>\n",
              "    </tr>\n",
              "    <tr>\n",
              "      <th>freq</th>\n",
              "      <td>NaN</td>\n",
              "      <td>NaN</td>\n",
              "      <td>4496</td>\n",
              "      <td>8734</td>\n",
              "      <td>1488</td>\n",
              "      <td>NaN</td>\n",
              "      <td>16879</td>\n",
              "      <td>2512</td>\n",
              "      <td>11865</td>\n",
              "      <td>11413</td>\n",
              "      <td>NaN</td>\n",
              "      <td>NaN</td>\n",
              "      <td>NaN</td>\n",
              "      <td>NaN</td>\n",
              "      <td>NaN</td>\n",
              "      <td>NaN</td>\n",
              "      <td>NaN</td>\n",
              "    </tr>\n",
              "    <tr>\n",
              "      <th>mean</th>\n",
              "      <td>8690.0000</td>\n",
              "      <td>2012-01-02 04:08:34.552045568</td>\n",
              "      <td>NaN</td>\n",
              "      <td>NaN</td>\n",
              "      <td>NaN</td>\n",
              "      <td>11.546752</td>\n",
              "      <td>NaN</td>\n",
              "      <td>NaN</td>\n",
              "      <td>NaN</td>\n",
              "      <td>NaN</td>\n",
              "      <td>20.376474</td>\n",
              "      <td>23.788755</td>\n",
              "      <td>62.722884</td>\n",
              "      <td>12.736540</td>\n",
              "      <td>35.676218</td>\n",
              "      <td>153.786869</td>\n",
              "      <td>189.463088</td>\n",
              "    </tr>\n",
              "    <tr>\n",
              "      <th>min</th>\n",
              "      <td>1.0000</td>\n",
              "      <td>2011-01-01 00:00:00</td>\n",
              "      <td>NaN</td>\n",
              "      <td>NaN</td>\n",
              "      <td>NaN</td>\n",
              "      <td>0.000000</td>\n",
              "      <td>NaN</td>\n",
              "      <td>NaN</td>\n",
              "      <td>NaN</td>\n",
              "      <td>NaN</td>\n",
              "      <td>0.820000</td>\n",
              "      <td>0.000000</td>\n",
              "      <td>0.000000</td>\n",
              "      <td>0.000000</td>\n",
              "      <td>0.000000</td>\n",
              "      <td>0.000000</td>\n",
              "      <td>1.000000</td>\n",
              "    </tr>\n",
              "    <tr>\n",
              "      <th>25%</th>\n",
              "      <td>4345.5000</td>\n",
              "      <td>2011-07-04 00:00:00</td>\n",
              "      <td>NaN</td>\n",
              "      <td>NaN</td>\n",
              "      <td>NaN</td>\n",
              "      <td>6.000000</td>\n",
              "      <td>NaN</td>\n",
              "      <td>NaN</td>\n",
              "      <td>NaN</td>\n",
              "      <td>NaN</td>\n",
              "      <td>13.940000</td>\n",
              "      <td>16.665000</td>\n",
              "      <td>48.000000</td>\n",
              "      <td>7.001500</td>\n",
              "      <td>4.000000</td>\n",
              "      <td>34.000000</td>\n",
              "      <td>40.000000</td>\n",
              "    </tr>\n",
              "    <tr>\n",
              "      <th>50%</th>\n",
              "      <td>8690.0000</td>\n",
              "      <td>2012-01-02 00:00:00</td>\n",
              "      <td>NaN</td>\n",
              "      <td>NaN</td>\n",
              "      <td>NaN</td>\n",
              "      <td>12.000000</td>\n",
              "      <td>NaN</td>\n",
              "      <td>NaN</td>\n",
              "      <td>NaN</td>\n",
              "      <td>NaN</td>\n",
              "      <td>20.500000</td>\n",
              "      <td>24.240000</td>\n",
              "      <td>63.000000</td>\n",
              "      <td>12.998000</td>\n",
              "      <td>17.000000</td>\n",
              "      <td>115.000000</td>\n",
              "      <td>142.000000</td>\n",
              "    </tr>\n",
              "    <tr>\n",
              "      <th>75%</th>\n",
              "      <td>13034.5000</td>\n",
              "      <td>2012-07-02 00:00:00</td>\n",
              "      <td>NaN</td>\n",
              "      <td>NaN</td>\n",
              "      <td>NaN</td>\n",
              "      <td>18.000000</td>\n",
              "      <td>NaN</td>\n",
              "      <td>NaN</td>\n",
              "      <td>NaN</td>\n",
              "      <td>NaN</td>\n",
              "      <td>27.060000</td>\n",
              "      <td>31.060000</td>\n",
              "      <td>78.000000</td>\n",
              "      <td>16.997900</td>\n",
              "      <td>48.000000</td>\n",
              "      <td>220.000000</td>\n",
              "      <td>281.000000</td>\n",
              "    </tr>\n",
              "    <tr>\n",
              "      <th>max</th>\n",
              "      <td>17379.0000</td>\n",
              "      <td>2012-12-31 00:00:00</td>\n",
              "      <td>NaN</td>\n",
              "      <td>NaN</td>\n",
              "      <td>NaN</td>\n",
              "      <td>23.000000</td>\n",
              "      <td>NaN</td>\n",
              "      <td>NaN</td>\n",
              "      <td>NaN</td>\n",
              "      <td>NaN</td>\n",
              "      <td>41.000000</td>\n",
              "      <td>50.000000</td>\n",
              "      <td>100.000000</td>\n",
              "      <td>56.996900</td>\n",
              "      <td>367.000000</td>\n",
              "      <td>886.000000</td>\n",
              "      <td>977.000000</td>\n",
              "    </tr>\n",
              "    <tr>\n",
              "      <th>std</th>\n",
              "      <td>5017.0295</td>\n",
              "      <td>NaN</td>\n",
              "      <td>NaN</td>\n",
              "      <td>NaN</td>\n",
              "      <td>NaN</td>\n",
              "      <td>6.914405</td>\n",
              "      <td>NaN</td>\n",
              "      <td>NaN</td>\n",
              "      <td>NaN</td>\n",
              "      <td>NaN</td>\n",
              "      <td>7.894801</td>\n",
              "      <td>8.592511</td>\n",
              "      <td>19.292983</td>\n",
              "      <td>8.196795</td>\n",
              "      <td>49.305030</td>\n",
              "      <td>151.357286</td>\n",
              "      <td>181.387599</td>\n",
              "    </tr>\n",
              "  </tbody>\n",
              "</table>\n",
              "</div>"
            ],
            "text/plain": [
              "           instant                           date season   year  month  \\\n",
              "count   17379.0000                          17379  17379  17379  17379   \n",
              "unique         NaN                            NaN      4      2     12   \n",
              "top            NaN                            NaN   Fall   2012    May   \n",
              "freq           NaN                            NaN   4496   8734   1488   \n",
              "mean     8690.0000  2012-01-02 04:08:34.552045568    NaN    NaN    NaN   \n",
              "min         1.0000            2011-01-01 00:00:00    NaN    NaN    NaN   \n",
              "25%      4345.5000            2011-07-04 00:00:00    NaN    NaN    NaN   \n",
              "50%      8690.0000            2012-01-02 00:00:00    NaN    NaN    NaN   \n",
              "75%     13034.5000            2012-07-02 00:00:00    NaN    NaN    NaN   \n",
              "max     17379.0000            2012-12-31 00:00:00    NaN    NaN    NaN   \n",
              "std      5017.0295                            NaN    NaN    NaN    NaN   \n",
              "\n",
              "               hours holiday day_of_week workingday weather_situation  \\\n",
              "count   17379.000000   17379       17379      17379             17379   \n",
              "unique           NaN       2           7          2                 4   \n",
              "top              NaN      No    Saturday        Yes             Clear   \n",
              "freq             NaN   16879        2512      11865             11413   \n",
              "mean       11.546752     NaN         NaN        NaN               NaN   \n",
              "min         0.000000     NaN         NaN        NaN               NaN   \n",
              "25%         6.000000     NaN         NaN        NaN               NaN   \n",
              "50%        12.000000     NaN         NaN        NaN               NaN   \n",
              "75%        18.000000     NaN         NaN        NaN               NaN   \n",
              "max        23.000000     NaN         NaN        NaN               NaN   \n",
              "std         6.914405     NaN         NaN        NaN               NaN   \n",
              "\n",
              "                temp         atemp      humidity    wind_speed        casual  \\\n",
              "count   17379.000000  17379.000000  17379.000000  17379.000000  17379.000000   \n",
              "unique           NaN           NaN           NaN           NaN           NaN   \n",
              "top              NaN           NaN           NaN           NaN           NaN   \n",
              "freq             NaN           NaN           NaN           NaN           NaN   \n",
              "mean       20.376474     23.788755     62.722884     12.736540     35.676218   \n",
              "min         0.820000      0.000000      0.000000      0.000000      0.000000   \n",
              "25%        13.940000     16.665000     48.000000      7.001500      4.000000   \n",
              "50%        20.500000     24.240000     63.000000     12.998000     17.000000   \n",
              "75%        27.060000     31.060000     78.000000     16.997900     48.000000   \n",
              "max        41.000000     50.000000    100.000000     56.996900    367.000000   \n",
              "std         7.894801      8.592511     19.292983      8.196795     49.305030   \n",
              "\n",
              "          registered         count  \n",
              "count   17379.000000  17379.000000  \n",
              "unique           NaN           NaN  \n",
              "top              NaN           NaN  \n",
              "freq             NaN           NaN  \n",
              "mean      153.786869    189.463088  \n",
              "min         0.000000      1.000000  \n",
              "25%        34.000000     40.000000  \n",
              "50%       115.000000    142.000000  \n",
              "75%       220.000000    281.000000  \n",
              "max       886.000000    977.000000  \n",
              "std       151.357286    181.387599  "
            ]
          },
          "execution_count": 53,
          "metadata": {},
          "output_type": "execute_result"
        }
      ],
      "source": [
        "hour_df.describe(include=\"all\")"
      ]
    },
    {
      "cell_type": "markdown",
      "metadata": {
        "id": "0ZfoIhvDYTB4"
      },
      "source": [
        "Kita coba fokuskan parameter statistik pada faktor cuaca (suhu, kelembaban, dan kecepatan angin) dan total penyewaan sepeda."
      ]
    },
    {
      "cell_type": "code",
      "execution_count": 54,
      "metadata": {
        "colab": {
          "base_uri": "https://localhost:8080/"
        },
        "id": "nXMinpMYStiq",
        "outputId": "7e123de9-a325-41c2-8dc1-627c1cc68cb1"
      },
      "outputs": [
        {
          "name": "stdout",
          "output_type": "stream",
          "text": [
            "             temp    humidity  wind_speed        count\n",
            "count  731.000000  731.000000  731.000000   731.000000\n",
            "mean    20.310776   62.789406   12.762576  4504.348837\n",
            "std      7.505091   14.242910    5.192357  1937.211452\n",
            "min      2.424346    0.000000    1.500244    22.000000\n",
            "25%     13.820424   52.000000    9.041650  3152.000000\n",
            "50%     20.431653   62.666700   12.125325  4548.000000\n",
            "75%     26.872076   73.020850   15.625371  5956.000000\n",
            "max     35.328347   97.250000   34.000021  8714.000000\n",
            "               temp      humidity    wind_speed         count\n",
            "count  17379.000000  17379.000000  17379.000000  17379.000000\n",
            "mean      20.376474     62.722884     12.736540    189.463088\n",
            "std        7.894801     19.292983      8.196795    181.387599\n",
            "min        0.820000      0.000000      0.000000      1.000000\n",
            "25%       13.940000     48.000000      7.001500     40.000000\n",
            "50%       20.500000     63.000000     12.998000    142.000000\n",
            "75%       27.060000     78.000000     16.997900    281.000000\n",
            "max       41.000000    100.000000     56.996900    977.000000\n"
          ]
        }
      ],
      "source": [
        "print(day_df[['temp', 'humidity', 'wind_speed', 'count']].describe())\n",
        "print(hour_df[['temp', 'humidity', 'wind_speed', 'count']].describe())"
      ]
    },
    {
      "cell_type": "markdown",
      "metadata": {
        "id": "8yUEZBfycLIb"
      },
      "source": [
        "**Insight:**\n",
        "- Suhu rata-rata sekitar 34°C.\n",
        "- Kelembaban cukup tinggi, sekitar 62-63%.\n",
        "- Jumlah penyewaan sepeda rata-rata 189 per jam dan 4504 per hari"
      ]
    },
    {
      "cell_type": "markdown",
      "metadata": {
        "id": "jUiwLLdMedGU"
      },
      "source": [
        "Selanjutnya kita lihat korelasi atau hubungan antara variabel."
      ]
    },
    {
      "cell_type": "code",
      "execution_count": 55,
      "metadata": {
        "colab": {
          "base_uri": "https://localhost:8080/"
        },
        "id": "89_hWamWS1ZX",
        "outputId": "dd372ed6-1f6a-4c78-f840-572b90a60f73"
      },
      "outputs": [
        {
          "name": "stdout",
          "output_type": "stream",
          "text": [
            "                temp  humidity  wind_speed     count\n",
            "temp        1.000000  0.126963   -0.157944  0.627494\n",
            "humidity    0.126963  1.000000   -0.248489 -0.100659\n",
            "wind_speed -0.157944 -0.248489    1.000000 -0.234545\n",
            "count       0.627494 -0.100659   -0.234545  1.000000\n",
            "                temp  humidity  wind_speed     count\n",
            "temp        1.000000 -0.069881   -0.023125  0.404772\n",
            "humidity   -0.069881  1.000000   -0.290105 -0.322911\n",
            "wind_speed -0.023125 -0.290105    1.000000  0.093234\n",
            "count       0.404772 -0.322911    0.093234  1.000000\n"
          ]
        }
      ],
      "source": [
        "print(day_df[['temp', 'humidity', 'wind_speed', 'count']].corr())\n",
        "print(hour_df[['temp', 'humidity', 'wind_speed', 'count']].corr())"
      ]
    },
    {
      "cell_type": "markdown",
      "metadata": {
        "id": "th_Lzl2Fkj9O"
      },
      "source": [
        "**Insight:**\n",
        "- Suhu berpengaruh positif terhadap penyewaan sepeda (semakin panas, semakin banyak penyewa).\n",
        "- Kelembaban menghasilkan negatif terhadap penyewaan sepeda, artinya tidak terlalu mempengaruhi penyewa sepeda.\n",
        "- Kecepatan angin juga tidak terlalu berpengaruh terhadap jumlah penyewaan."
      ]
    },
    {
      "cell_type": "markdown",
      "metadata": {
        "id": "fhAe3NQYffGO"
      },
      "source": [
        "Eksplorasi Data Hari Kerja vs Akhir Pekan/Hari Libur"
      ]
    },
    {
      "cell_type": "code",
      "execution_count": 56,
      "metadata": {
        "colab": {
          "base_uri": "https://localhost:8080/"
        },
        "id": "TiR--xpffi4U",
        "outputId": "3484ad3f-b6a6-4d58-e3c2-a08f7d8da73b"
      },
      "outputs": [
        {
          "name": "stdout",
          "output_type": "stream",
          "text": [
            "            count         mean          std    min      25%     50%     75%  \\\n",
            "workingday                                                                    \n",
            "No          231.0  4330.168831  2052.141245  605.0  2710.50  4459.0  5907.5   \n",
            "Yes         500.0  4584.820000  1878.415583   22.0  3344.25  4582.0  5987.5   \n",
            "\n",
            "               max  \n",
            "workingday          \n",
            "No          8714.0  \n",
            "Yes         8362.0  \n",
            "         count         mean          std     min     25%     50%      75%  \\\n",
            "holiday                                                                     \n",
            "No       710.0  4527.104225  1929.013947    22.0  3214.0  4558.0  5932.75   \n",
            "Yes       21.0  3735.000000  2103.350660  1000.0  1951.0  3351.0  6034.00   \n",
            "\n",
            "            max  \n",
            "holiday          \n",
            "No       8714.0  \n",
            "Yes      7403.0  \n",
            "             count         mean          std     min      25%     50%  \\\n",
            "day_of_week                                                             \n",
            "Sunday       105.0  4228.828571  1872.496629   605.0  2918.00  4334.0   \n",
            "Monday       105.0  4338.123810  1793.074013    22.0  3310.00  4359.0   \n",
            "Tuesday      104.0  4510.663462  1826.911642   683.0  3579.25  4576.5   \n",
            "Wednesday    104.0  4548.538462  2038.095884   441.0  2653.25  4642.5   \n",
            "Thursday     104.0  4667.259615  1939.433317   431.0  3270.75  4721.0   \n",
            "Friday       104.0  4690.288462  1874.624870  1167.0  3390.75  4601.5   \n",
            "Saturday     105.0  4550.542857  2196.693009   627.0  2732.00  4521.0   \n",
            "\n",
            "                 75%     max  \n",
            "day_of_week                   \n",
            "Sunday       5464.00  8227.0  \n",
            "Monday       5875.00  7525.0  \n",
            "Tuesday      5769.00  7767.0  \n",
            "Wednesday    6175.75  8173.0  \n",
            "Thursday     6286.00  7804.0  \n",
            "Friday       5900.50  8362.0  \n",
            "Saturday     6140.00  8714.0  \n"
          ]
        },
        {
          "name": "stderr",
          "output_type": "stream",
          "text": [
            "/var/folders/pv/hl8lt53s3212m50jmr0nb5q00000gp/T/ipykernel_12483/3621579060.py:2: FutureWarning: The default of observed=False is deprecated and will be changed to True in a future version of pandas. Pass observed=False to retain current behavior or observed=True to adopt the future default and silence this warning.\n",
            "  print(day_df.groupby('workingday')['count'].describe())\n",
            "/var/folders/pv/hl8lt53s3212m50jmr0nb5q00000gp/T/ipykernel_12483/3621579060.py:5: FutureWarning: The default of observed=False is deprecated and will be changed to True in a future version of pandas. Pass observed=False to retain current behavior or observed=True to adopt the future default and silence this warning.\n",
            "  print(day_df.groupby('holiday')['count'].describe())\n",
            "/var/folders/pv/hl8lt53s3212m50jmr0nb5q00000gp/T/ipykernel_12483/3621579060.py:8: FutureWarning: The default of observed=False is deprecated and will be changed to True in a future version of pandas. Pass observed=False to retain current behavior or observed=True to adopt the future default and silence this warning.\n",
            "  print(day_df.groupby('day_of_week')['count'].describe())\n"
          ]
        }
      ],
      "source": [
        "# Jumlah penyewaan sepeda berdasarkan hari kerja dan akhir pekan\n",
        "print(day_df.groupby('workingday')['count'].describe())\n",
        "\n",
        "# Jumlah penyewaan sepeda berdasarkan hari libur (holiday)\n",
        "print(day_df.groupby('holiday')['count'].describe())\n",
        "\n",
        "# Jumlah penyewaan sepeda berdasarkan hari dalam seminggu\n",
        "print(day_df.groupby('day_of_week')['count'].describe())"
      ]
    },
    {
      "cell_type": "markdown",
      "metadata": {
        "id": "syWuysl0i7Dm"
      },
      "source": [
        "**Insight:**\n",
        "- Hari kerja (workingday = Yes) memiliki jumlah penyewaan yang lebih tinggi dibanding akhir pekan.\n",
        "- Hari libur (holiday = Yes) memiliki jumlah penyewaan yang lebih rendah dari hari biasa.\n",
        "- Penyewaan sepeda cenderung lebih tinggi di hari kerja (Senin–Jumat) dibanding akhir pekan."
      ]
    },
    {
      "cell_type": "markdown",
      "metadata": {
        "id": "00cN4rewkD2c"
      },
      "source": [
        "Penyewaan sepeda berdasarkan jam dalam sehari pada hari kerja dan akhir pekan"
      ]
    },
    {
      "cell_type": "code",
      "execution_count": 57,
      "metadata": {
        "colab": {
          "base_uri": "https://localhost:8080/"
        },
        "id": "ppWDCX0EkIxQ",
        "outputId": "fd3c1e2e-e248-45a7-d4fc-ebd7c5331297"
      },
      "outputs": [
        {
          "name": "stderr",
          "output_type": "stream",
          "text": [
            "/var/folders/pv/hl8lt53s3212m50jmr0nb5q00000gp/T/ipykernel_12483/1647356005.py:2: FutureWarning: The default of observed=False is deprecated and will be changed to True in a future version of pandas. Pass observed=False to retain current behavior or observed=True to adopt the future default and silence this warning.\n",
            "  print(hour_df.groupby(['workingday', 'hours'])['count'].mean())\n"
          ]
        },
        {
          "name": "stdout",
          "output_type": "stream",
          "text": [
            "workingday  hours\n",
            "No          0         90.800000\n",
            "            1         69.508696\n",
            "            2         53.171053\n",
            "            3         25.775330\n",
            "            4          8.264317\n",
            "            5          8.689189\n",
            "            6         18.742358\n",
            "            7         43.406926\n",
            "            8        105.653680\n",
            "            9        171.623377\n",
            "            10       255.909091\n",
            "            11       315.316017\n",
            "            12       366.259740\n",
            "            13       372.731602\n",
            "            14       364.645022\n",
            "            15       358.813853\n",
            "            16       352.727273\n",
            "            17       323.549784\n",
            "            18       281.056522\n",
            "            19       231.673913\n",
            "            20       174.739130\n",
            "            21       142.060870\n",
            "            22       116.060870\n",
            "            23        85.930435\n",
            "Yes         0         36.786290\n",
            "            1         16.552632\n",
            "            2          8.683778\n",
            "            3          4.942553\n",
            "            4          5.429787\n",
            "            5         24.913131\n",
            "            6        102.500000\n",
            "            7        290.612903\n",
            "            8        477.006048\n",
            "            9        241.518145\n",
            "            10       135.366935\n",
            "            11       158.229839\n",
            "            12       200.820926\n",
            "            13       198.429719\n",
            "            14       183.572289\n",
            "            15       201.331325\n",
            "            16       293.122244\n",
            "            17       525.290581\n",
            "            18       492.226908\n",
            "            19       348.401606\n",
            "            20       249.718876\n",
            "            21       186.287149\n",
            "            22       138.389558\n",
            "            23        88.708835\n",
            "Name: count, dtype: float64\n",
            "holiday  hours\n",
            "No       0         53.791489\n",
            "         1         33.210526\n",
            "         2         22.791066\n",
            "         3         11.730486\n",
            "         4          6.367799\n",
            "         5         20.169540\n",
            "         6         77.468750\n",
            "         7        215.929178\n",
            "         8        364.617564\n",
            "         9        220.740793\n",
            "         10       172.781870\n",
            "         11       206.941926\n",
            "         12       252.311174\n",
            "         13       252.330508\n",
            "         14       239.604520\n",
            "         15       250.820621\n",
            "         16       313.159379\n",
            "         17       466.437236\n",
            "         18       430.166902\n",
            "         19       314.189533\n",
            "         20       227.458274\n",
            "         21       173.123055\n",
            "         22       132.002829\n",
            "         23        88.719943\n",
            "Yes      0         57.476190\n",
            "         1         38.904762\n",
            "         2         25.476190\n",
            "         3         11.611111\n",
            "         4          5.850000\n",
            "         5         10.619048\n",
            "         6         28.285714\n",
            "         7         82.142857\n",
            "         8        170.523810\n",
            "         9        171.190476\n",
            "         10       203.476190\n",
            "         11       248.523810\n",
            "         12       287.142857\n",
            "         13       298.523810\n",
            "         14       286.285714\n",
            "         15       265.142857\n",
            "         16       272.285714\n",
            "         17       293.142857\n",
            "         18       268.761905\n",
            "         19       221.761905\n",
            "         20       177.952381\n",
            "         21       145.095238\n",
            "         22       108.857143\n",
            "         23        57.904762\n",
            "Name: count, dtype: float64\n"
          ]
        },
        {
          "name": "stderr",
          "output_type": "stream",
          "text": [
            "/var/folders/pv/hl8lt53s3212m50jmr0nb5q00000gp/T/ipykernel_12483/1647356005.py:4: FutureWarning: The default of observed=False is deprecated and will be changed to True in a future version of pandas. Pass observed=False to retain current behavior or observed=True to adopt the future default and silence this warning.\n",
            "  print(hour_df.groupby(['holiday', 'hours'])['count'].mean())\n"
          ]
        }
      ],
      "source": [
        "# hari kerja atau weekend\n",
        "print(hour_df.groupby(['workingday', 'hours'])['count'].mean())\n",
        "# hari libur\n",
        "print(hour_df.groupby(['holiday', 'hours'])['count'].mean())"
      ]
    },
    {
      "cell_type": "markdown",
      "metadata": {
        "id": "x2aWd3idkdPO"
      },
      "source": [
        "**Insight:**\n",
        "- Pada hari kerja (workingday=Yes), terjadi dua puncak penggunaan sepeda: pagi (sekitar jam 8) dan sore (sekitar jam 17-18).\n",
        "- Pada akhir pekan (workingday=No), pola penggunaan lebih merata sepanjang hari, dengan puncak di siang hari.\n",
        "- Hari libur memiliki pola penyewaan yang lebih stabil, dengan puncak penyewaan pertengahan hari (10:00 - 15:00)."
      ]
    },
    {
      "cell_type": "markdown",
      "metadata": {
        "id": "zsyZjqak8DC2"
      },
      "source": [
        "## Visualization & Explanatory Analysis"
      ]
    },
    {
      "cell_type": "markdown",
      "metadata": {
        "id": "HZxOiQ6n8DC2"
      },
      "source": [
        "### Pertanyaan 1: Manakah faktor cuaca (suhu, kelembaban, kecepatan angin) paling berpengaruh terhadap jumlah penyewaan sepeda?"
      ]
    },
    {
      "cell_type": "code",
      "execution_count": 58,
      "metadata": {
        "colab": {
          "base_uri": "https://localhost:8080/",
          "height": 487
        },
        "id": "1swJUdAD8DC2",
        "outputId": "ba9f8af7-4621-4688-a726-c77b4c5b29ff"
      },
      "outputs": [
        {
          "data": {
            "image/png": "[encoded data removed]",
            "text/plain": [
              "<Figure size 800x500 with 1 Axes>"
            ]
          },
          "metadata": {},
          "output_type": "display_data"
        }
      ],
      "source": [
        "# Scatter plot suhu vs jumlah penyewaan sepeda\n",
        "plt.figure(figsize=(8,5))\n",
        "sn.scatterplot(x=day_df['temp'], y=day_df['count'])\n",
        "plt.title(\"Pengaruh Suhu terhadap Penyewaan Sepeda\")\n",
        "plt.xlabel(\"Suhu\")\n",
        "plt.ylabel(\"Jumlah Penyewaan Sepeda\")\n",
        "plt.show()"
      ]
    },
    {
      "cell_type": "markdown",
      "metadata": {
        "id": "GdOZKOriomKN"
      },
      "source": [
        "Terlihat plot menunjukkan tren naik, maka semakin tinggi suhu, semakin banyak penyewaan sepeda."
      ]
    },
    {
      "cell_type": "code",
      "execution_count": 59,
      "metadata": {
        "colab": {
          "base_uri": "https://localhost:8080/",
          "height": 487
        },
        "id": "IiAs4ANAnMCh",
        "outputId": "da3af92e-99cb-4b04-aad3-865259bc7ef0"
      },
      "outputs": [
        {
          "data": {
            "image/png": "[encoded data removed]",
            "text/plain": [
              "<Figure size 800x500 with 1 Axes>"
            ]
          },
          "metadata": {},
          "output_type": "display_data"
        }
      ],
      "source": [
        "# Scatter plot kelembaban vs jumlah penyewaan sepeda\n",
        "plt.figure(figsize=(8,5))\n",
        "sn.scatterplot(x=day_df['humidity'], y=day_df['count'])\n",
        "plt.title(\"Pengaruh Kelembaban terhadap Penyewaan Sepeda\")\n",
        "plt.xlabel(\"Kelembaban\")\n",
        "plt.ylabel(\"Jumlah Penyewaan Sepeda\")\n",
        "plt.show()"
      ]
    },
    {
      "cell_type": "markdown",
      "metadata": {
        "id": "XC-TTNjnop-I"
      },
      "source": [
        "Terlihat bahwa tidak ada pola yang jelas, artinya kelembaban tidak terlalu berpengaruh terhadap penyewaan sepeda."
      ]
    },
    {
      "cell_type": "code",
      "execution_count": 60,
      "metadata": {
        "colab": {
          "base_uri": "https://localhost:8080/",
          "height": 487
        },
        "id": "BkZcCS2GneYz",
        "outputId": "b8258862-2b63-457c-aa1f-042c218ebe96"
      },
      "outputs": [
        {
          "data": {
            "image/png": "[encoded data removed]",
            "text/plain": [
              "<Figure size 800x500 with 1 Axes>"
            ]
          },
          "metadata": {},
          "output_type": "display_data"
        }
      ],
      "source": [
        "# Scatter plot kecepatan angin vs jumlah penyewaan sepeda\n",
        "plt.figure(figsize=(8,5))\n",
        "sn.scatterplot(x=day_df['wind_speed'], y=day_df['count'])\n",
        "plt.title(\"Pengaruh Kecepatan Angin terhadap Penyewaan Sepeda\")\n",
        "plt.xlabel(\"Kecepatan Angin\")\n",
        "plt.ylabel(\"Jumlah Penyewaan Sepeda\")\n",
        "plt.show()"
      ]
    },
    {
      "cell_type": "markdown",
      "metadata": {
        "id": "fza1Pqrho02-"
      },
      "source": [
        "Terlihat bahwa tidak ada pola yang jelas, artinya kecepatan angin tidak terlalu berpengaruh terhadap penyewaan sepeda."
      ]
    },
    {
      "cell_type": "code",
      "execution_count": 61,
      "metadata": {
        "colab": {
          "base_uri": "https://localhost:8080/",
          "height": 468
        },
        "id": "CgC_TRpymtF2",
        "outputId": "e136ba1a-6c27-405c-c0a8-748d530c13d4"
      },
      "outputs": [
        {
          "data": {
            "image/png": "[encoded data removed]",
            "text/plain": [
              "<Figure size 600x500 with 2 Axes>"
            ]
          },
          "metadata": {},
          "output_type": "display_data"
        }
      ],
      "source": [
        "plt.figure(figsize=(6,5))\n",
        "sn.heatmap(day_df[['temp', 'humidity', 'wind_speed', 'count']].corr(), annot=True, cmap='coolwarm', fmt=\".2f\")\n",
        "plt.title(\"Heatmap Korelasi Faktor Cuaca dengan Penyewaan Sepeda\")\n",
        "plt.show()"
      ]
    },
    {
      "cell_type": "markdown",
      "metadata": {
        "id": "6SnY0lgEo9R8"
      },
      "source": [
        "Nilai korelasi faktor cuaca pada penyewaan sepeda dalam bentuk heatmap"
      ]
    },
    {
      "cell_type": "code",
      "execution_count": 62,
      "metadata": {
        "colab": {
          "base_uri": "https://localhost:8080/",
          "height": 497
        },
        "id": "N32sduZwoFMn",
        "outputId": "80a3cf6c-b26b-4431-ccff-377a5e7fcb09"
      },
      "outputs": [
        {
          "name": "stderr",
          "output_type": "stream",
          "text": [
            "/var/folders/pv/hl8lt53s3212m50jmr0nb5q00000gp/T/ipykernel_12483/3263728019.py:6: FutureWarning: \n",
            "\n",
            "Passing `palette` without assigning `hue` is deprecated and will be removed in v0.14.0. Assign the `x` variable to `hue` and set `legend=False` for the same effect.\n",
            "\n",
            "  sn.barplot(x=correlation.index, y=correlation.values, palette='coolwarm')\n"
          ]
        },
        {
          "data": {
            "image/png": "[encoded data removed]",
            "text/plain": [
              "<Figure size 600x400 with 1 Axes>"
            ]
          },
          "metadata": {},
          "output_type": "display_data"
        }
      ],
      "source": [
        "# Menghitung korelasi faktor cuaca dengan jumlah penyewaan sepeda\n",
        "correlation = day_df[['temp', 'humidity', 'wind_speed', 'count']].corr()['count'].drop('count')\n",
        "\n",
        "# Visualisasi dalam bentuk bar chart\n",
        "plt.figure(figsize=(6,4))\n",
        "sn.barplot(x=correlation.index, y=correlation.values, palette='coolwarm')\n",
        "\n",
        "# Menambahkan nilai korelasi di atas bar\n",
        "for i, v in enumerate(correlation.values):\n",
        "    plt.text(i, v + 0.02, f\"{v:.2f}\", ha='center', fontsize=12)\n",
        "\n",
        "plt.title(\"Korelasi Faktor Cuaca terhadap Jumlah Penyewaan Sepeda\")\n",
        "plt.ylabel(\"Korelasi\")\n",
        "plt.ylim(-1, 1)  # Korelasi berkisar dari -1 hingga 1\n",
        "plt.show()"
      ]
    },
    {
      "cell_type": "markdown",
      "metadata": {
        "id": "SIcZDLH0pFmX"
      },
      "source": [
        "**Insight:**\n",
        "- Jika nilai korelasi 1 atau positif maka variabel tersebut berpengaruh terhadap penyewaan sepeda.\n",
        "- Jika nilai korelasi -1 atau negatid maka variabel tersebut tidak terlalu berpengaruh atau berlawanan dengan penyewaan sepeda.\n",
        "\n",
        "Maka seperti pada grafik terlihat bahwa temp atau suhu merupakan variabel paling berpengaruh dari semua faktor cuaca terhadap jumlah penyewaan sepeda."
      ]
    },
    {
      "cell_type": "markdown",
      "metadata": {
        "id": "DgHI7CiU8DC2"
      },
      "source": [
        "### Pertanyaan 2: Bagaimana pola penggunaan sepeda pada hari kerja dibandingkan dengan akhir pekan atau hari libur dalam dua tahun terakhir?"
      ]
    },
    {
      "cell_type": "code",
      "execution_count": 63,
      "metadata": {
        "colab": {
          "base_uri": "https://localhost:8080/",
          "height": 682
        },
        "id": "dSw4REAittUG",
        "outputId": "9431d55e-50ce-4212-8182-bea726b4d547"
      },
      "outputs": [
        {
          "name": "stderr",
          "output_type": "stream",
          "text": [
            "/var/folders/pv/hl8lt53s3212m50jmr0nb5q00000gp/T/ipykernel_12483/586067228.py:4: FutureWarning: The default of observed=False is deprecated and will be changed to True in a future version of pandas. Pass observed=False to retain current behavior or observed=True to adopt the future default and silence this warning.\n",
            "  day_of_week_rentals = day_df.groupby('day_of_week')['count'].mean().reindex([\n",
            "/var/folders/pv/hl8lt53s3212m50jmr0nb5q00000gp/T/ipykernel_12483/586067228.py:12: FutureWarning: \n",
            "\n",
            "Passing `palette` without assigning `hue` is deprecated and will be removed in v0.14.0. Assign the `x` variable to `hue` and set `legend=False` for the same effect.\n",
            "\n",
            "  sn.barplot(x=day_of_week_rentals.index, y=day_of_week_rentals.values, palette=colors)\n"
          ]
        },
        {
          "data": {
            "image/png": "[encoded data removed]",
            "text/plain": [
              "<Figure size 800x500 with 1 Axes>"
            ]
          },
          "metadata": {},
          "output_type": "display_data"
        }
      ],
      "source": [
        "plt.figure(figsize=(8,5))\n",
        "\n",
        "# Menghitung rata-rata jumlah penyewaan berdasarkan hari dalam seminggu\n",
        "day_of_week_rentals = day_df.groupby('day_of_week')['count'].mean().reindex([\n",
        "    'Monday', 'Tuesday', 'Wednesday', 'Thursday', 'Friday', 'Saturday', 'Sunday'\n",
        "])\n",
        "\n",
        "# Menentukan warna (biru untuk nilai tertinggi, abu-abu untuk lainnya)\n",
        "colors = ['blue' if v == day_of_week_rentals.max() else 'grey' for v in day_of_week_rentals.values]\n",
        "\n",
        "# Membuat bar chart\n",
        "sn.barplot(x=day_of_week_rentals.index, y=day_of_week_rentals.values, palette=colors)\n",
        "\n",
        "# Menambahkan angka di atas setiap bar\n",
        "for i, v in enumerate(day_of_week_rentals.values):\n",
        "    plt.text(i, v + 100, f\"{int(v)}\", ha='center', fontsize=12)\n",
        "\n",
        "plt.title(\"Rata-rata Penyewaan Sepeda Per Hari dalam Seminggu\")\n",
        "plt.xlabel(\"Hari\")\n",
        "plt.ylabel(\"Jumlah Penyewaan Sepeda\")\n",
        "plt.xticks(rotation=45)\n",
        "plt.show()"
      ]
    },
    {
      "cell_type": "code",
      "execution_count": 64,
      "metadata": {
        "colab": {
          "base_uri": "https://localhost:8080/",
          "height": 552
        },
        "id": "mPZJzXwXuNeI",
        "outputId": "b1083dff-698f-4f1b-848a-667860eba802"
      },
      "outputs": [
        {
          "name": "stderr",
          "output_type": "stream",
          "text": [
            "/var/folders/pv/hl8lt53s3212m50jmr0nb5q00000gp/T/ipykernel_12483/1847268804.py:4: FutureWarning: The default of observed=False is deprecated and will be changed to True in a future version of pandas. Pass observed=False to retain current behavior or observed=True to adopt the future default and silence this warning.\n",
            "  working_vs_weekend = day_df.groupby('workingday')['count'].mean()\n",
            "/var/folders/pv/hl8lt53s3212m50jmr0nb5q00000gp/T/ipykernel_12483/1847268804.py:16: FutureWarning: \n",
            "\n",
            "Passing `palette` without assigning `hue` is deprecated and will be removed in v0.14.0. Assign the `x` variable to `hue` and set `legend=False` for the same effect.\n",
            "\n",
            "  sn.barplot(x='Kategori', y='Jumlah Penyewaan', data=data, palette=colors)\n"
          ]
        },
        {
          "data": {
            "image/png": "[encoded data removed]",
            "text/plain": [
              "<Figure size 600x400 with 1 Axes>"
            ]
          },
          "metadata": {},
          "output_type": "display_data"
        }
      ],
      "source": [
        "plt.figure(figsize=(6,4))\n",
        "\n",
        "# Menghitung rata-rata jumlah penyewaan pada hari kerja dan akhir pekan\n",
        "working_vs_weekend = day_df.groupby('workingday')['count'].mean()\n",
        "\n",
        "# Membuat DataFrame untuk mempermudah visualisasi\n",
        "data = pd.DataFrame({\n",
        "    'Kategori': ['Hari Kerja', 'Akhir Pekan'],\n",
        "    'Jumlah Penyewaan': [working_vs_weekend['Yes'], working_vs_weekend['No']]\n",
        "})\n",
        "\n",
        "# Menentukan warna (biru untuk nilai tertinggi)\n",
        "colors = ['blue' if v == max(data['Jumlah Penyewaan']) else 'grey' for v in data['Jumlah Penyewaan']]\n",
        "\n",
        "# Membuat bar chart\n",
        "sn.barplot(x='Kategori', y='Jumlah Penyewaan', data=data, palette=colors)\n",
        "\n",
        "# Menambahkan angka di atas setiap bar\n",
        "for i, v in enumerate(data['Jumlah Penyewaan']):\n",
        "    plt.text(i, v + 100, f\"{int(v)}\", ha='center', fontsize=12)\n",
        "\n",
        "plt.title(\"Perbandingan Penyewaan Sepeda: Hari Kerja vs Akhir Pekan\")\n",
        "plt.ylabel(\"Jumlah Penyewaan Sepeda\")\n",
        "plt.show()"
      ]
    },
    {
      "cell_type": "code",
      "execution_count": 65,
      "metadata": {
        "colab": {
          "base_uri": "https://localhost:8080/",
          "height": 552
        },
        "id": "jJvi1VdBuSYK",
        "outputId": "9f218dd7-b6cf-4249-bc83-c42ecb1feb17"
      },
      "outputs": [
        {
          "name": "stderr",
          "output_type": "stream",
          "text": [
            "/var/folders/pv/hl8lt53s3212m50jmr0nb5q00000gp/T/ipykernel_12483/1142249407.py:4: FutureWarning: The default of observed=False is deprecated and will be changed to True in a future version of pandas. Pass observed=False to retain current behavior or observed=True to adopt the future default and silence this warning.\n",
            "  holiday_rentals = day_df.groupby('holiday')['count'].mean()\n",
            "/var/folders/pv/hl8lt53s3212m50jmr0nb5q00000gp/T/ipykernel_12483/1142249407.py:16: FutureWarning: \n",
            "\n",
            "Passing `palette` without assigning `hue` is deprecated and will be removed in v0.14.0. Assign the `x` variable to `hue` and set `legend=False` for the same effect.\n",
            "\n",
            "  sn.barplot(x='Kategori', y='Jumlah Penyewaan', data=data, palette=colors)\n"
          ]
        },
        {
          "data": {
            "image/png": "[encoded data removed]",
            "text/plain": [
              "<Figure size 600x400 with 1 Axes>"
            ]
          },
          "metadata": {},
          "output_type": "display_data"
        }
      ],
      "source": [
        "plt.figure(figsize=(6,4))\n",
        "\n",
        "# Menghitung rata-rata jumlah penyewaan pada hari biasa dan hari libur\n",
        "holiday_rentals = day_df.groupby('holiday')['count'].mean()\n",
        "\n",
        "# Membuat DataFrame untuk mempermudah visualisasi\n",
        "data = pd.DataFrame({\n",
        "    'Kategori': ['Hari Biasa', 'Hari Libur'],\n",
        "    'Jumlah Penyewaan': [holiday_rentals['No'], holiday_rentals['Yes']]\n",
        "})\n",
        "\n",
        "# Menentukan warna (biru untuk nilai tertinggi)\n",
        "colors = ['blue' if v == max(data['Jumlah Penyewaan']) else 'grey' for v in data['Jumlah Penyewaan']]\n",
        "\n",
        "# Membuat bar chart\n",
        "sn.barplot(x='Kategori', y='Jumlah Penyewaan', data=data, palette=colors)\n",
        "\n",
        "# Menambahkan angka di atas setiap bar\n",
        "for i, v in enumerate(data['Jumlah Penyewaan']):\n",
        "    plt.text(i, v + 100, f\"{int(v)}\", ha='center', fontsize=12)\n",
        "\n",
        "plt.title(\"Perbandingan Penyewaan Sepeda: Hari Biasa vs Hari Libur\")\n",
        "plt.ylabel(\"Jumlah Penyewaan Sepeda\")\n",
        "plt.show()"
      ]
    },
    {
      "cell_type": "code",
      "execution_count": 66,
      "metadata": {
        "colab": {
          "base_uri": "https://localhost:8080/",
          "height": 576
        },
        "id": "T7cZUD1xsyXV",
        "outputId": "81206132-1f97-47c0-c8eb-16a4136d6bd7"
      },
      "outputs": [
        {
          "name": "stderr",
          "output_type": "stream",
          "text": [
            "/var/folders/pv/hl8lt53s3212m50jmr0nb5q00000gp/T/ipykernel_12483/2305083901.py:4: FutureWarning: The default of observed=False is deprecated and will be changed to True in a future version of pandas. Pass observed=False to retain current behavior or observed=True to adopt the future default and silence this warning.\n",
            "  hourly_pattern = hour_df.groupby(['workingday', 'hours'])['count'].mean().reset_index()\n",
            "/var/folders/pv/hl8lt53s3212m50jmr0nb5q00000gp/T/ipykernel_12483/2305083901.py:5: FutureWarning: The default of observed=False is deprecated and will be changed to True in a future version of pandas. Pass observed=False to retain current behavior or observed=True to adopt the future default and silence this warning.\n",
            "  holiday_pattern = hour_df.groupby(['holiday', 'hours'])['count'].mean().reset_index()\n"
          ]
        },
        {
          "data": {
            "image/png": "[encoded data removed]",
            "text/plain": [
              "<Figure size 800x500 with 1 Axes>"
            ]
          },
          "metadata": {},
          "output_type": "display_data"
        }
      ],
      "source": [
        "plt.figure(figsize=(8,5))\n",
        "\n",
        "# Menghitung rata-rata penyewaan berdasarkan jam untuk hari kerja, akhir pekan, dan hari libur\n",
        "hourly_pattern = hour_df.groupby(['workingday', 'hours'])['count'].mean().reset_index()\n",
        "holiday_pattern = hour_df.groupby(['holiday', 'hours'])['count'].mean().reset_index()\n",
        "\n",
        "# Plot hari kerja\n",
        "sn.lineplot(data=hourly_pattern[hourly_pattern['workingday'] == 'Yes'], x='hours', y='count', label=\"Hari Kerja\", color='blue')\n",
        "# Plot akhir pekan\n",
        "sn.lineplot(data=hourly_pattern[hourly_pattern['workingday'] == 'No'], x='hours', y='count', label=\"Akhir Pekan\", color='orange')\n",
        "# Plot hari libur\n",
        "sn.lineplot(data=holiday_pattern[holiday_pattern['holiday'] == 'Yes'], x='hours', y='count', label=\"Hari Libur\", color='red')\n",
        "\n",
        "plt.title(\"Pola Penggunaan Sepeda Berdasarkan Jam\")\n",
        "plt.xlabel(\"Jam\")\n",
        "plt.ylabel(\"Rata-rata Penyewaan Sepeda\")\n",
        "plt.legend()\n",
        "plt.grid()\n",
        "plt.show()"
      ]
    },
    {
      "cell_type": "markdown",
      "metadata": {
        "id": "_0-36BDLklRg"
      },
      "source": [
        "**Insight:**\n",
        "- Hari dengan penyewaan tertinggi berwarna biru.\n",
        "- Hari kerja memiliki rata-rata penyewaan lebih tinggi dibanding akhir pekan.\n",
        "- Hari kerja memiliki dua puncak utama pada jam pagi & sore.\n"
      ]
    },
    {
      "cell_type": "markdown",
      "metadata": {
        "id": "_WeHlCeX8DC2"
      },
      "source": [
        "## Conclusion"
      ]
    },
    {
      "cell_type": "markdown",
      "metadata": {
        "id": "hV-SwldUvY81"
      },
      "source": [
        "**Pertanyaan:**\n",
        "1. Manakah faktor cuaca (suhu, kelembaban, kecepatan angin) paling berpengaruh terhadap jumlah penyewaan sepeda?\n",
        "2. Bagaimana pola penggunaan sepeda pada hari kerja dibandingkan dengan akhir pekan atau hari libur dalam dua tahun terakhir?"
      ]
    },
    {
      "cell_type": "markdown",
      "metadata": {
        "id": "ZTcyR48Y8DC2"
      },
      "source": [
        "- Conclution pertanyaan 1: Berdasarkan hasil visualisasi diatas, kita dapat melihat bahwa **Suhu** memiliki pengaruh yang signifikan (positif) terhadap jumlah penyewaan sepeda. Sementara kelembaban dan kecepatan angin tidak memiliki pengaruh yang berarti.\n",
        "- Conclution pertanyaan 2: Setelah melihat visualisasi dari data penyewaan sepeda perharinya dapat terlihat bahwa rata-rata jumlah penyewa pada weekdays atau working days(hari kerja) lebih tinggi daripada hari libur atau weekend."
      ]
    },
    {
      "cell_type": "markdown",
      "metadata": {
        "id": "9y4VUsmcYNZ5"
      },
      "source": [
        "## Analisis Lanjutan (Opsional)"
      ]
    },
    {
      "cell_type": "markdown",
      "metadata": {
        "id": "HeDOVq2ixlE-"
      },
      "source": [
        "### RFM Analysis (Recency, Frequency, Monetary)\n",
        "\n",
        "RFM Analysis dibawah ini digunakan untuk memahami perilaku pelanggan dari tiga faktor utama:\n",
        "\n",
        "1. Recency (seberapa baru pelanggan berinteraksi dengan bisnis)\n",
        "2. Frequency (banyaknya pelanggan dalam berinteraksi)\n",
        "3. Monetary (banyaknya uang yang mereka gunakan)"
      ]
    },
    {
      "cell_type": "code",
      "execution_count": 67,
      "metadata": {
        "colab": {
          "base_uri": "https://localhost:8080/"
        },
        "id": "ySX_cNEExhwC",
        "outputId": "208f0baa-35e9-4395-86e9-74273cb43049"
      },
      "outputs": [
        {
          "name": "stdout",
          "output_type": "stream",
          "text": [
            "         Recency  Frequency  Monetary\n",
            "instant                              \n",
            "1            730          1       985\n",
            "2            729          1       801\n",
            "3            728          1      1349\n",
            "4            727          1      1562\n",
            "5            726          1      1600\n"
          ]
        }
      ],
      "source": [
        "# Pastikan date dalam format datetime\n",
        "day_df['date'] = pd.to_datetime(day_df['date'])\n",
        "\n",
        "# Menghitung Recency (hari sejak terakhir menyewa)\n",
        "max_date = day_df['date'].max()\n",
        "recency = day_df.groupby('instant')['date'].max().apply(lambda x: (max_date - x).days)\n",
        "\n",
        "# Menghitung Frequency (total transaksi per pelanggan)\n",
        "frequency = day_df.groupby('instant')['date'].count()\n",
        "\n",
        "# Menghitung Monetary (total jumlah sepeda yang disewa per pelanggan)\n",
        "monetary = day_df.groupby('instant')['count'].sum()\n",
        "\n",
        "# Menggabungkan RFM ke dalam satu DataFrame\n",
        "rfm_df = pd.DataFrame({'Recency': recency, 'Frequency': frequency, 'Monetary': monetary})\n",
        "\n",
        "# Menampilkan hasil RFM\n",
        "print(rfm_df.head())"
      ]
    },
    {
      "cell_type": "markdown",
      "metadata": {
        "id": "8hz8yMzj27Mc"
      },
      "source": [
        "### Clustering\n",
        "Jumlah penyewa berdasarkan suhu"
      ]
    },
    {
      "cell_type": "code",
      "execution_count": 68,
      "metadata": {
        "colab": {
          "base_uri": "https://localhost:8080/"
        },
        "id": "Y2vy9IJZ13OE",
        "outputId": "caf14fc6-f440-495f-ce14-87d331dc1ba7"
      },
      "outputs": [
        {
          "name": "stdout",
          "output_type": "stream",
          "text": [
            "Temp_Category\n",
            "Cold    334\n",
            "Mild    252\n",
            "Hot     145\n",
            "Name: count, dtype: int64\n"
          ]
        }
      ],
      "source": [
        "# Kategorisasi suhu berdasarkan distribusi\n",
        "def categorize_temp(temp):\n",
        "    if temp <= 19:\n",
        "        return 'Cold'\n",
        "    elif 20 <= temp <= 29:\n",
        "        return 'Mild'\n",
        "    else:\n",
        "        return 'Hot'\n",
        "\n",
        "# Menambahkan kategori suhu ke dalam dataset\n",
        "day_df['Temp_Category'] = day_df['temp'].apply(categorize_temp)\n",
        "\n",
        "# Melihat distribusi kategori suhu\n",
        "print(day_df['Temp_Category'].value_counts())"
      ]
    },
    {
      "cell_type": "markdown",
      "metadata": {
        "id": "oEBc4uYV3Eol"
      },
      "source": [
        "Penyewaan terbanyak adalah pada saat suhu sedang dingin(cold) dengan rata-rata 334 penyewa per hari."
      ]
    },
    {
      "cell_type": "markdown",
      "metadata": {
        "id": "gMkPhjJ64Vib"
      },
      "source": [
        "Jumlah penyewa berdasarkan season"
      ]
    },
    {
      "cell_type": "code",
      "execution_count": 69,
      "metadata": {
        "colab": {
          "base_uri": "https://localhost:8080/"
        },
        "id": "Hu8xNnJj2K6U",
        "outputId": "71bb8baa-9042-489d-f4e3-bc9e34bd8e09"
      },
      "outputs": [
        {
          "name": "stdout",
          "output_type": "stream",
          "text": [
            "season\n",
            "Spring    2604.132597\n",
            "Summer    4992.331522\n",
            "Fall      5644.303191\n",
            "Winter    4728.162921\n",
            "Name: count, dtype: float64\n"
          ]
        },
        {
          "name": "stderr",
          "output_type": "stream",
          "text": [
            "/var/folders/pv/hl8lt53s3212m50jmr0nb5q00000gp/T/ipykernel_12483/632279996.py:2: FutureWarning: The default of observed=False is deprecated and will be changed to True in a future version of pandas. Pass observed=False to retain current behavior or observed=True to adopt the future default and silence this warning.\n",
            "  season_count = day_df.groupby(['season'])['count'].mean()\n"
          ]
        }
      ],
      "source": [
        "# Mengelompokkan berdasarkan musim\n",
        "season_count = day_df.groupby(['season'])['count'].mean()\n",
        "\n",
        "# Menampilkan hasil\n",
        "print(season_count)"
      ]
    },
    {
      "cell_type": "markdown",
      "metadata": {
        "id": "KNDBbgQk4sjk"
      },
      "source": [
        "Penyewaan terbanyak adalah pada Fall (Musim Gugur) dengan rata-rata 5644 penyewaan per hari."
      ]
    },
    {
      "cell_type": "code",
      "execution_count": 70,
      "metadata": {
        "id": "G2hrd4Yd9E58"
      },
      "outputs": [],
      "source": [
        "day_df.to_csv('day_clean.csv', index=False)\n",
        "hour_df.to_csv('hour_clean.csv', index=False)"
      ]
    }
  ],
  "metadata": {
    "colab": {
      "provenance": []
    },
    "kernelspec": {
      "display_name": "3.11.4",
      "language": "python",
      "name": "python3"
    },
    "language_info": {
      "codemirror_mode": {
        "name": "ipython",
        "version": 3
      },
      "file_extension": ".py",
      "mimetype": "text/x-python",
      "name": "python",
      "nbconvert_exporter": "python",
      "pygments_lexer": "ipython3",
      "version": "3.11.4"
    },
    "orig_nbformat": 4
  },
  "nbformat": 4,
  "nbformat_minor": 0
}
